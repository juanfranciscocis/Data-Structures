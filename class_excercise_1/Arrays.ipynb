{
 "cells": [
  {
   "cell_type": "markdown",
   "source": [
    "# ARRAYS"
   ],
   "metadata": {
    "collapsed": false,
    "pycharm": {
     "name": "#%% md\n"
    }
   }
  },
  {
   "cell_type": "markdown",
   "source": [
    "### GIVEN A BINARY ARRAY OF NUMS, RETURN THE MAXIMUM NUMBER OF CONSECUTIVE 1'S IN THE ARRAY\n",
    "\n",
    "    - INPUT=[1,1,0,1,1,1]\n",
    "    - OUTPUT=3\n",
    "\n"
   ],
   "metadata": {
    "collapsed": false,
    "pycharm": {
     "name": "#%% md\n"
    }
   }
  },
  {
   "cell_type": "markdown",
   "source": [
    "Array es una coleccion de items, como Strings, boleanos, punteros\n",
    "Cada item tiene un indice asociado"
   ],
   "metadata": {
    "collapsed": false,
    "pycharm": {
     "name": "#%% md\n"
    }
   }
  },
  {
   "cell_type": "code",
   "execution_count": 24,
   "outputs": [
    {
     "name": "stdout",
     "output_type": "stream",
     "text": [
      "2\n"
     ]
    }
   ],
   "source": [
    "arr = [1,3,12,1]\n",
    "\n",
    "total = 0\n",
    "for i in range(len(arr)):\n",
    "    if arr[i] == 1:\n",
    "        total +=1\n",
    "print(total)\n",
    "\n"
   ],
   "metadata": {
    "collapsed": false,
    "pycharm": {
     "name": "#%%\n"
    }
   }
  },
  {
   "cell_type": "markdown",
   "source": [
    "### Python no tiene arrays, solo listas pero podemos inicializar un array de la siguiente manera\n",
    "\n",
    "### y el costo del algoritmo es de O(1) -> para los arrays"
   ],
   "metadata": {
    "collapsed": false,
    "pycharm": {
     "name": "#%% md\n"
    }
   }
  },
  {
   "cell_type": "code",
   "execution_count": null,
   "outputs": [],
   "source": [
    "import _ctypes\n",
    "class Array(object):\n",
    "\n",
    "    def __init__(self,n):\n",
    "        self.l=0 #number of elements in the array\n",
    "        self.n = n #total number of elements\n",
    "        self.array = self._create_array(self,n)\n",
    "\n",
    "    def _create_array(self,n):\n",
    "\n",
    "\n",
    "\n",
    "\n"
   ],
   "metadata": {
    "collapsed": false,
    "pycharm": {
     "name": "#%%\n"
    }
   }
  }
 ],
 "metadata": {
  "kernelspec": {
   "display_name": "Python 3",
   "language": "python",
   "name": "python3"
  },
  "language_info": {
   "codemirror_mode": {
    "name": "ipython",
    "version": 2
   },
   "file_extension": ".py",
   "mimetype": "text/x-python",
   "name": "python",
   "nbconvert_exporter": "python",
   "pygments_lexer": "ipython2",
   "version": "2.7.6"
  }
 },
 "nbformat": 4,
 "nbformat_minor": 0
}