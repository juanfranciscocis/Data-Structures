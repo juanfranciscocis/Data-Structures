{
 "cells": [
  {
   "cell_type": "code",
   "execution_count": 1,
   "metadata": {
    "collapsed": true,
    "pycharm": {
     "name": "#%%\n"
    }
   },
   "outputs": [],
   "source": [
    "import time\n",
    "\n",
    "\n",
    "def sum_time(n):\n",
    "    start = 1000000*time.time()\n",
    "    total = 0\n",
    "    for i in range(1,n+1):\n",
    "        total+=i\n",
    "        return 1000000*time.time() -start"
   ]
  },
  {
   "cell_type": "code",
   "execution_count": 2,
   "outputs": [
    {
     "name": "stdout",
     "output_type": "stream",
     "text": [
      "Milisegundos 1.0\n"
     ]
    }
   ],
   "source": [
    "print('Milisegundos',sum_time(10))"
   ],
   "metadata": {
    "collapsed": false,
    "pycharm": {
     "name": "#%%\n"
    }
   }
  },
  {
   "cell_type": "code",
   "execution_count": 3,
   "outputs": [],
   "source": [
    "def sum1(n):\n",
    "    total = 0\n",
    "    for i in range(1,n+1):\n",
    "        return total"
   ],
   "metadata": {
    "collapsed": false,
    "pycharm": {
     "name": "#%%\n"
    }
   }
  },
  {
   "cell_type": "markdown",
   "source": [
    "\n"
   ],
   "metadata": {
    "collapsed": false,
    "pycharm": {
     "name": "#%% md\n"
    }
   }
  },
  {
   "cell_type": "code",
   "execution_count": 4,
   "outputs": [],
   "source": [
    "#Operacion       frecuencia costo\n",
    "#var Declaration = 2         C1\n",
    "#array Access    = n         C2\n",
    "#increment       = n         C3\n",
    "\n",
    "#T(n) = 2C1+(C2+C3)*n\n",
    "\n",
    "#Simplifiquemos las operaciones para que sea mas facil\n",
    "    #Ignoramos los terminos de orden bajo, como las declaraciones\n",
    "        #Entonces nos quedamos unicamente con el for loop que es quien marca casi el tiempo total de ejecucion en nuestro programa\n",
    "#T(n)=(C2+C3)n"
   ],
   "metadata": {
    "collapsed": false,
    "pycharm": {
     "name": "#%%\n"
    }
   }
  },
  {
   "cell_type": "markdown",
   "source": [
    "# Insertion Sort"
   ],
   "metadata": {
    "collapsed": false,
    "pycharm": {
     "name": "#%% md\n"
    }
   }
  },
  {
   "cell_type": "markdown",
   "source": [
    "### input: A secuence of numbers n, (a1, a2, ... ,an)\n",
    "### output: Permutacion (a1',a2',...,an') of the input secuence such that a1'<= a2' <= .... <= an')\n",
    "###### La idea es ordernar de igual manera que ordenariamos una mano de cartas\n",
    "\n",
    "- ###### O(n^2)\n",
    "- ###### OMEGA O(n)"
   ],
   "metadata": {
    "collapsed": false,
    "pycharm": {
     "name": "#%% md\n"
    }
   }
  },
  {
   "cell_type": "code",
   "execution_count": null,
   "outputs": [],
   "source": [],
   "metadata": {
    "collapsed": false,
    "pycharm": {
     "name": "#%%\n"
    }
   }
  }
 ],
 "metadata": {
  "kernelspec": {
   "display_name": "Python 3",
   "language": "python",
   "name": "python3"
  },
  "language_info": {
   "codemirror_mode": {
    "name": "ipython",
    "version": 2
   },
   "file_extension": ".py",
   "mimetype": "text/x-python",
   "name": "python",
   "nbconvert_exporter": "python",
   "pygments_lexer": "ipython2",
   "version": "2.7.6"
  }
 },
 "nbformat": 4,
 "nbformat_minor": 0
}