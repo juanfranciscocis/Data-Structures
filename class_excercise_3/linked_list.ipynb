{
 "cells": [
  {
   "cell_type": "code",
   "execution_count": 1,
   "id": "5acb4fe5",
   "metadata": {
    "slideshow": {
     "slide_type": "skip"
    },
    "pycharm": {
     "name": "#%%\n"
    }
   },
   "outputs": [],
   "source": [
    "import time\n",
    "import pandas as pd\n",
    "import numpy as np\n",
    "import matplotlib.pyplot as plt\n",
    "%matplotlib inline  "
   ]
  },
  {
   "cell_type": "markdown",
   "id": "a41bb501",
   "metadata": {
    "slideshow": {
     "slide_type": "slide"
    },
    "pycharm": {
     "name": "#%% md\n"
    }
   },
   "source": [
    "# CMP 3002 \n",
    "## Linked Lists"
   ]
  },
  {
   "cell_type": "markdown",
   "id": "d23f2a16",
   "metadata": {
    "slideshow": {
     "slide_type": "slide"
    },
    "pycharm": {
     "name": "#%% md\n"
    }
   },
   "source": [
    "## Questions?"
   ]
  },
  {
   "cell_type": "markdown",
   "id": "a98fdc08",
   "metadata": {
    "slideshow": {
     "slide_type": "slide"
    },
    "pycharm": {
     "name": "#%% md\n"
    }
   },
   "source": [
    "## Linked Lists"
   ]
  },
  {
   "cell_type": "markdown",
   "id": "419c97dc",
   "metadata": {
    "slideshow": {
     "slide_type": "slide"
    },
    "pycharm": {
     "name": "#%% md\n"
    }
   },
   "source": [
    "### Properties\n",
    "\n",
    "- Similar to arrays, linked list is a linear data structure\n",
    "- Each element is a separate object\n",
    "- All objects are linked together by a reference field in each element\n",
    "- Two types: \n",
    "    * Singly linked lists\n",
    "    * Doubly linked lists"
   ]
  },
  {
   "cell_type": "markdown",
   "id": "fb64fd01",
   "metadata": {
    "slideshow": {
     "slide_type": "slide"
    },
    "pycharm": {
     "name": "#%% md\n"
    }
   },
   "source": [
    "### Singly linked lists\n",
    "\n",
    "<img src=\"../images/linked_list.png\" alt=\"drawing\" style=\"width:400px;\"/>\n",
    "\n",
    "Each node has two parts:\n",
    "- value\n",
    "- reference field to link to the next node"
   ]
  },
  {
   "cell_type": "code",
   "execution_count": 2,
   "id": "a806ba4b",
   "metadata": {
    "slideshow": {
     "slide_type": "subslide"
    },
    "pycharm": {
     "name": "#%%\n"
    }
   },
   "outputs": [],
   "source": [
    "class Node:\n",
    "    \"\"\"\n",
    "    Implementation of a node\n",
    "    \"\"\"\n",
    "    def __init__(self, val=None):\n",
    "        self.val = val\n",
    "        self.next_node = None\n",
    "    \n",
    "    def set_next_node(self, next_node):\n",
    "        self.next_node = next_node\n",
    "        \n",
    "class Singly_linked_list:\n",
    "    \"\"\"\n",
    "    Implementation of a singly linked list\n",
    "    \"\"\"\n",
    "    def __init__(self, head_node=None):\n",
    "        self.head_node = head_node"
   ]
  },
  {
   "cell_type": "code",
   "execution_count": 3,
   "id": "d4194006",
   "metadata": {
    "slideshow": {
     "slide_type": "subslide"
    },
    "pycharm": {
     "name": "#%%\n"
    }
   },
   "outputs": [],
   "source": [
    "m1 = Node(\"Jan\")\n",
    "m2 = Node(\"Feb\")\n",
    "m3 = Node(\"March\")\n",
    "\n",
    "# link m2 to m3\n",
    "m1.set_next_node(m2)\n",
    "# link m3 to m4\n",
    "m2.set_next_node(m3)\n",
    "\n",
    "list1 = Singly_linked_list(m1)"
   ]
  },
  {
   "cell_type": "markdown",
   "id": "f2dd374c",
   "metadata": {
    "slideshow": {
     "slide_type": "subslide"
    },
    "pycharm": {
     "name": "#%% md\n"
    }
   },
   "source": [
    "<img src=\"../images/example_linked_list.png\" alt=\"drawing\" style=\"width:400px;\"/>"
   ]
  },
  {
   "cell_type": "markdown",
   "id": "0142772c",
   "metadata": {
    "slideshow": {
     "slide_type": "slide"
    },
    "pycharm": {
     "name": "#%% md\n"
    }
   },
   "source": [
    "### Operations\n",
    "\n",
    "- traverse\n",
    "- insert\n",
    "- delete"
   ]
  },
  {
   "cell_type": "markdown",
   "id": "066565e6",
   "metadata": {
    "slideshow": {
     "slide_type": "slide"
    },
    "pycharm": {
     "name": "#%% md\n"
    }
   },
   "source": [
    "### Traverse\n",
    "\n",
    "- Unlike arrays, we can't read a node in singly linked list in $O(1)$\n",
    "- To access an element, we need to traverse from the head to the node one by one\n",
    "- Complexity of getting to a node is $O(n)$, for $n$ being the size of the linked list"
   ]
  },
  {
   "cell_type": "code",
   "execution_count": 4,
   "id": "24a120d0",
   "metadata": {
    "slideshow": {
     "slide_type": "subslide"
    },
    "pycharm": {
     "name": "#%%\n"
    }
   },
   "outputs": [],
   "source": [
    "class Singly_linked_list(Singly_linked_list):\n",
    "    def list_traversed(self):\n",
    "        node = self.head_node\n",
    "        while node:\n",
    "            print(node.val)\n",
    "            node = node.next_node"
   ]
  },
  {
   "cell_type": "code",
   "execution_count": 5,
   "id": "8f5b3993",
   "metadata": {
    "slideshow": {
     "slide_type": "subslide"
    },
    "pycharm": {
     "name": "#%%\n"
    }
   },
   "outputs": [
    {
     "name": "stdout",
     "output_type": "stream",
     "text": [
      "Jan\n",
      "Feb\n",
      "March\n"
     ]
    }
   ],
   "source": [
    "m1 = Node(\"Jan\")\n",
    "m2 = Node(\"Feb\")\n",
    "m3 = Node(\"March\")\n",
    "\n",
    "m1.set_next_node(m2)\n",
    "m2.set_next_node(m3)\n",
    "\n",
    "list1 = Singly_linked_list(m1)\n",
    "\n",
    "list1.list_traversed()"
   ]
  },
  {
   "cell_type": "markdown",
   "id": "ab54332e",
   "metadata": {
    "slideshow": {
     "slide_type": "slide"
    },
    "pycharm": {
     "name": "#%% md\n"
    }
   },
   "source": [
    "### Insertion\n",
    "\n",
    "- insert at the beginning\n",
    "- insert at the end\n",
    "- insert after a given node"
   ]
  },
  {
   "cell_type": "markdown",
   "id": "2d46d647",
   "metadata": {
    "slideshow": {
     "slide_type": "slide"
    },
    "pycharm": {
     "name": "#%% md\n"
    }
   },
   "source": [
    "### At the beginning\n",
    "\n",
    "<img src=\"../images/insert_head1_linked_list.png\" alt=\"drawing\" style=\"width:400px;\"/>\n",
    "\n",
    "- Simply connect the new node to the head of the list\n",
    "- The new node is the head of the list\n",
    "\n",
    "\n",
    "<img src=\"../images/insert_head2_linked_list.png\" alt=\"drawing\" style=\"width:500px;\"/>\n",
    "\n",
    "- Complexity $O(1)$"
   ]
  },
  {
   "cell_type": "markdown",
   "id": "232aea82",
   "metadata": {
    "slideshow": {
     "slide_type": "slide"
    },
    "pycharm": {
     "name": "#%% md\n"
    }
   },
   "source": [
    "### At the end\n",
    "\n",
    "<img src=\"../images/insert_head1_linked_list.png\" alt=\"drawing\" style=\"width:400px;\"/>\n",
    "\n",
    "- Find the tail node\n",
    "- Connect the tail to the new node\n",
    "- The new node is the new tail\n",
    "\n",
    "<img src=\"../images/insert_tail2_linked_list.png\" alt=\"drawing\" style=\"width:500px;\"/>\n",
    "\n",
    "- Complexity $O(n)$"
   ]
  },
  {
   "cell_type": "markdown",
   "id": "91a35ce0",
   "metadata": {
    "slideshow": {
     "slide_type": "slide"
    },
    "pycharm": {
     "name": "#%% md\n"
    }
   },
   "source": [
    "### After a given node\n",
    "\n",
    "<img src=\"../images/insert_head1_linked_list.png\" alt=\"drawing\" style=\"width:400px;\"/>\n",
    "\n",
    "- Find the given node\n",
    "- Connect this node to the new node\n",
    "- Connect the new node to the previous next\n",
    "\n",
    "<img src=\"../images/insert_prev2_linked_list.png\" alt=\"drawing\" style=\"width:500px;\"/>\n",
    "\n",
    "- Complexity $O(n)$"
   ]
  },
  {
   "cell_type": "markdown",
   "id": "ca0ed5a0",
   "metadata": {
    "slideshow": {
     "slide_type": "slide"
    },
    "pycharm": {
     "name": "#%% md\n"
    }
   },
   "source": [
    "### Exercise\n",
    "\n",
    "Implement insert"
   ]
  },
  {
   "cell_type": "code",
   "execution_count": 6,
   "id": "ad9a02e0",
   "metadata": {
    "slideshow": {
     "slide_type": "subslide"
    },
    "pycharm": {
     "name": "#%%\n"
    }
   },
   "outputs": [],
   "source": [
    "class Node:\n",
    "    \"\"\"\n",
    "    Implementation of a node\n",
    "    \"\"\"\n",
    "    def __init__(self, val=None):\n",
    "        self.val = val\n",
    "        self.next_node = None\n",
    "    \n",
    "    def set_next_node(self, next_node):\n",
    "        self.next_node = next_node\n",
    "        \n",
    "class Singly_linked_list:\n",
    "    \"\"\"\n",
    "    Implementation of a singly linked list\n",
    "    \"\"\"\n",
    "    def __init__(self, head_node=None):\n",
    "        self.head_node = head_node\n",
    "        \n",
    "    def list_traversed(self):\n",
    "        node = self.head_node\n",
    "        while node:\n",
    "            print(node.val)\n",
    "            node = node.next_node\n",
    "\n",
    "class Singly_linked_list(Singly_linked_list):\n",
    "    def insert_head(self, new_node):\n",
    "        # insert to the head\n",
    "        # A -> B -> null\n",
    "        # R -> A -> B -> null \n",
    "        new_node.set_next_node(self.head_node)\n",
    "        self.head_node = new_node\n",
    "        \n",
    "    def insert_tail(self, new_node):\n",
    "        # insert to the tail\n",
    "        # A -> B -> null\n",
    "        # A -> B -> R -> null \n",
    "        node = self.head_node\n",
    "        prev = None\n",
    "        while node:\n",
    "            prev = node\n",
    "            node = node.next_node\n",
    "        prev.set_next_node(new_node)\n",
    "        \n",
    "    def insert_middle(self, new_node, value):\n",
    "        # insert in the middle\n",
    "        # A -> B -> C -> null\n",
    "        # A -> B -> R -> C -> null\n",
    "        node = self.head_node\n",
    "        while node.val != value:\n",
    "            node = node.next_node\n",
    "        if node:\n",
    "            new_node.set_next_node(node.next_node)\n",
    "            node.set_next_node(new_node)\n",
    "        else:\n",
    "            self.insert_tail(new_node)\n",
    "                "
   ]
  },
  {
   "cell_type": "code",
   "execution_count": 7,
   "id": "20ba25d6",
   "metadata": {
    "pycharm": {
     "name": "#%%\n"
    }
   },
   "outputs": [
    {
     "name": "stdout",
     "output_type": "stream",
     "text": [
      "Jan\n",
      "Feb\n",
      "March\n"
     ]
    }
   ],
   "source": [
    "m1 = Node(\"Jan\")\n",
    "m2 = Node(\"Feb\")\n",
    "m3 = Node(\"March\")\n",
    "\n",
    "m1.set_next_node(m2)\n",
    "m2.set_next_node(m3)\n",
    "\n",
    "list1 = Singly_linked_list(m1)\n",
    "\n",
    "list1.list_traversed()"
   ]
  },
  {
   "cell_type": "code",
   "execution_count": 8,
   "id": "859ecef1",
   "metadata": {
    "pycharm": {
     "name": "#%%\n"
    }
   },
   "outputs": [
    {
     "name": "stdout",
     "output_type": "stream",
     "text": [
      "Dec\n",
      "Jan\n",
      "Feb\n",
      "March\n"
     ]
    }
   ],
   "source": [
    "m4 = Node(\"Dec\")\n",
    "list1.insert_head(m4)\n",
    "list1.list_traversed()"
   ]
  },
  {
   "cell_type": "code",
   "execution_count": 9,
   "id": "507323c8",
   "metadata": {
    "pycharm": {
     "name": "#%%\n"
    }
   },
   "outputs": [
    {
     "name": "stdout",
     "output_type": "stream",
     "text": [
      "Dec\n",
      "Jan\n",
      "Feb\n",
      "March\n",
      "June\n"
     ]
    }
   ],
   "source": [
    "m5 = Node(\"June\")\n",
    "list1.insert_tail(m5)\n",
    "list1.list_traversed()"
   ]
  },
  {
   "cell_type": "code",
   "execution_count": 10,
   "id": "b323f86a",
   "metadata": {
    "pycharm": {
     "name": "#%%\n"
    }
   },
   "outputs": [
    {
     "name": "stdout",
     "output_type": "stream",
     "text": [
      "Dec\n",
      "Jan\n",
      "Feb\n",
      "July\n",
      "March\n",
      "June\n"
     ]
    }
   ],
   "source": [
    "m6 = Node(\"July\")\n",
    "list1.insert_middle(m6,'Feb')\n",
    "list1.list_traversed()"
   ]
  },
  {
   "cell_type": "markdown",
   "id": "f6e50ef8",
   "metadata": {
    "slideshow": {
     "slide_type": "slide"
    },
    "pycharm": {
     "name": "#%% md\n"
    }
   },
   "source": [
    "### Deletion\n",
    "\n",
    "To delete an existing node from the singly linked list, we need to follow two steps:\n",
    "\n",
    "1. Find the previous node and the next node. $O(n)$\n",
    "2. Link the previous node directly to the next node. $O(1)$ "
   ]
  },
  {
   "cell_type": "markdown",
   "id": "797a0810",
   "metadata": {
    "slideshow": {
     "slide_type": "subslide"
    },
    "pycharm": {
     "name": "#%% md\n"
    }
   },
   "source": [
    "### Delete\n",
    "\n",
    "<img src=\"../images/insert_tail2_linked_list.png\" alt=\"drawing\" style=\"width:500px;\"/>\n",
    "\n",
    "**Delete March**\n",
    "\n",
    "<img src=\"../images/delete_linked_list.png\" alt=\"drawing\" style=\"width:500px;\"/>\n",
    "\n",
    "- Total time complexity $O(n)$"
   ]
  },
  {
   "cell_type": "markdown",
   "id": "3bc1fc09",
   "metadata": {
    "slideshow": {
     "slide_type": "subslide"
    },
    "pycharm": {
     "name": "#%% md\n"
    }
   },
   "source": [
    "### Exercise\n",
    "\n",
    "Implement delete"
   ]
  },
  {
   "cell_type": "code",
   "execution_count": 11,
   "id": "df671475",
   "metadata": {
    "slideshow": {
     "slide_type": "subslide"
    },
    "pycharm": {
     "name": "#%%\n"
    }
   },
   "outputs": [],
   "source": [
    "\n",
    "\n",
    "\n",
    "class Singly_linked_list(Singly_linked_list):\n",
    "    def delete(self,value):\n",
    "        node = self.head_node\n",
    "        prev = None\n",
    "\n",
    "        if node.val == value:\n",
    "            self.head_node = self.head_node.next_node\n",
    "            node.set_next_node(None)\n",
    "            return\n",
    "\n",
    "\n",
    "        while node and node.val != value:\n",
    "            prev = node\n",
    "            if node.next_node != None:\n",
    "                node = node.next_node\n",
    "        if node:\n",
    "            prev.set_next_node(node.next_node)\n",
    "            node.set_next_node(None)\n",
    "        else:\n",
    "            raise ValueError('No value founded')\n",
    "\n",
    "\n",
    "\n",
    "\n"
   ]
  },
  {
   "cell_type": "code",
   "execution_count": 12,
   "outputs": [
    {
     "name": "stdout",
     "output_type": "stream",
     "text": [
      "Jan\n",
      "Feb\n",
      "July\n",
      "March\n",
      "June\n"
     ]
    }
   ],
   "source": [
    "list1 = Singly_linked_list(m1)\n",
    "list1.list_traversed()"
   ],
   "metadata": {
    "collapsed": false,
    "pycharm": {
     "name": "#%%\n"
    }
   }
  },
  {
   "cell_type": "code",
   "execution_count": 13,
   "outputs": [],
   "source": [
    "list1.delete('Feb')"
   ],
   "metadata": {
    "collapsed": false,
    "pycharm": {
     "name": "#%%\n"
    }
   }
  },
  {
   "cell_type": "code",
   "execution_count": 14,
   "outputs": [
    {
     "name": "stdout",
     "output_type": "stream",
     "text": [
      "Jan\n",
      "July\n",
      "March\n",
      "June\n"
     ]
    }
   ],
   "source": [
    "list1.list_traversed()"
   ],
   "metadata": {
    "collapsed": false,
    "pycharm": {
     "name": "#%%\n"
    }
   }
  },
  {
   "cell_type": "code",
   "execution_count": 15,
   "outputs": [],
   "source": [
    "list1.delete('Jan')"
   ],
   "metadata": {
    "collapsed": false,
    "pycharm": {
     "name": "#%%\n"
    }
   }
  },
  {
   "cell_type": "code",
   "execution_count": 16,
   "outputs": [
    {
     "name": "stdout",
     "output_type": "stream",
     "text": [
      "July\n",
      "March\n",
      "June\n"
     ]
    }
   ],
   "source": [
    "list1.list_traversed()"
   ],
   "metadata": {
    "collapsed": false,
    "pycharm": {
     "name": "#%%\n"
    }
   }
  },
  {
   "cell_type": "code",
   "execution_count": 17,
   "outputs": [
    {
     "name": "stdout",
     "output_type": "stream",
     "text": [
      "July\n",
      "March\n"
     ]
    }
   ],
   "source": [
    "list1.delete('June')\n",
    "list1.list_traversed()"
   ],
   "metadata": {
    "collapsed": false,
    "pycharm": {
     "name": "#%%\n"
    }
   }
  },
  {
   "cell_type": "code",
   "execution_count": 17,
   "outputs": [],
   "source": [],
   "metadata": {
    "collapsed": false,
    "pycharm": {
     "name": "#%%\n"
    }
   }
  }
 ],
 "metadata": {
  "celltoolbar": "Slideshow",
  "kernelspec": {
   "display_name": "Python 3",
   "language": "python",
   "name": "python3"
  },
  "language_info": {
   "codemirror_mode": {
    "name": "ipython",
    "version": 3
   },
   "file_extension": ".py",
   "mimetype": "text/x-python",
   "name": "python",
   "nbconvert_exporter": "python",
   "pygments_lexer": "ipython3",
   "version": "3.8.8"
  }
 },
 "nbformat": 4,
 "nbformat_minor": 5
}