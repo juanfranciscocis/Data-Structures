{
 "cells": [
  {
   "cell_type": "code",
   "execution_count": 4,
   "outputs": [],
   "source": [
    "class TreeNode:\n",
    "    def __init__(self, val=0, left=None, right=None):\n",
    "        self.val = val\n",
    "        self.left = left\n",
    "        self.right = right\n",
    "\n",
    "# Implementation using recursion\n",
    "def preorderTraversalrec(root):\n",
    "\n",
    "    if root is None:\n",
    "        return []\n",
    "\n",
    "    out = [root.val]\n",
    "    out += preorderTraversalrec(root.left)\n",
    "    out += preorderTraversalrec(root.right)\n",
    "\n",
    "    return out\n",
    "\n",
    "# Implementation using recursion\n",
    "def inorderTraversalrec(root):\n",
    "\n",
    "    if root is None:\n",
    "        return []\n",
    "\n",
    "    out = inorderTraversalrec(root.left)\n",
    "    out += [root.val]\n",
    "    out += inorderTraversalrec(root.right)\n",
    "\n",
    "    return out\n",
    "\n",
    "\n",
    "# Implementation using recursion\n",
    "def postorderTraversalrec(root):\n",
    "\n",
    "    if root is None:\n",
    "        return []\n",
    "\n",
    "    out = postorderTraversalrec(root.left)\n",
    "    out += postorderTraversalrec(root.right)\n",
    "    out += [root.val]\n",
    "\n",
    "    return out\n",
    "\n",
    "\n",
    "# Implementation using recursion (checkkkk!!!)\n",
    "def max_depth_rec(root):\n",
    "    if not root:\n",
    "        return 0\n",
    "    if(root.left is None and root.right is None):\n",
    "        return 0\n",
    "    depth_left = max_depth_rec(root.left) + 1\n",
    "    depth_right = max_depth_rec(root.right) + 1\n",
    "\n",
    "    return max(depth_left, depth_right)"
   ],
   "metadata": {
    "collapsed": false,
    "pycharm": {
     "name": "#%%\n"
    }
   }
  },
  {
   "cell_type": "code",
   "execution_count": null,
   "outputs": [],
   "source": [],
   "metadata": {
    "collapsed": false,
    "pycharm": {
     "name": "#%%\n"
    }
   }
  }
 ],
 "metadata": {
  "kernelspec": {
   "display_name": "Python 3",
   "language": "python",
   "name": "python3"
  },
  "language_info": {
   "codemirror_mode": {
    "name": "ipython",
    "version": 2
   },
   "file_extension": ".py",
   "mimetype": "text/x-python",
   "name": "python",
   "nbconvert_exporter": "python",
   "pygments_lexer": "ipython2",
   "version": "2.7.6"
  }
 },
 "nbformat": 4,
 "nbformat_minor": 0
}