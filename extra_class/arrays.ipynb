{
 "cells": [
  {
   "cell_type": "code",
   "execution_count": 31,
   "id": "5acb4fe5",
   "metadata": {
    "slideshow": {
     "slide_type": "skip"
    },
    "pycharm": {
     "name": "#%%\n"
    }
   },
   "outputs": [],
   "source": [
    "import time\n",
    "import pandas as pd\n",
    "import numpy as np\n",
    "import matplotlib.pyplot as plt\n",
    "%matplotlib inline  "
   ]
  },
  {
   "cell_type": "markdown",
   "id": "a41bb501",
   "metadata": {
    "slideshow": {
     "slide_type": "slide"
    },
    "pycharm": {
     "name": "#%% md\n"
    }
   },
   "source": [
    "# CMP 3002 \n",
    "## Arrays"
   ]
  },
  {
   "cell_type": "markdown",
   "id": "c32d41e4",
   "metadata": {
    "slideshow": {
     "slide_type": "slide"
    },
    "pycharm": {
     "name": "#%% md\n"
    }
   },
   "source": [
    "### Example\n",
    "\n",
    "**Given a binary array nums, return the maximum number of consecutive 1's in the array.**\n",
    "\n",
    "    Input: nums = [1,1,0,1,1,1]\n",
    "    Output: 3\n",
    "\n"
   ]
  },
  {
   "cell_type": "markdown",
   "id": "c6e57d3b",
   "metadata": {
    "slideshow": {
     "slide_type": "slide"
    },
    "pycharm": {
     "name": "#%% md\n"
    }
   },
   "source": [
    "## Arrays\n",
    "\n",
    "```\n",
    "An array is a collection of items. \n",
    "```\n",
    "- The items could be integers, strings, booleans, pointers, etc. \n",
    "- Items are stored in contiguous memory locations\n",
    "- Each item has an associated index (address, register)\n",
    "- Since they are stored together, going through all the items is straightforward"
   ]
  },
  {
   "cell_type": "markdown",
   "id": "e8ebeec3",
   "metadata": {
    "slideshow": {
     "slide_type": "slide"
    },
    "pycharm": {
     "name": "#%% md\n"
    }
   },
   "source": [
    "## Operations\n",
    "\n",
    "The primitive operations in arrays are:\n",
    "- read\n",
    "- write"
   ]
  },
  {
   "cell_type": "markdown",
   "id": "0e6c900c",
   "metadata": {
    "slideshow": {
     "slide_type": "slide"
    },
    "pycharm": {
     "name": "#%% md\n"
    }
   },
   "source": [
    "### Implementation\n",
    "\n",
    "- In computers, arrays can hold up to `N` items\n",
    "- `N` is defined by the programmer at the time of creation\n",
    "- Python is dynamically typed language, it does not require to define the size before\n"
   ]
  },
  {
   "cell_type": "markdown",
   "id": "6daa27c8",
   "metadata": {
    "slideshow": {
     "slide_type": "subslide"
    },
    "pycharm": {
     "name": "#%% md\n"
    }
   },
   "source": [
    "### Example in C\n",
    "\n",
    "- Declaring:\n",
    "```\n",
    "int x[5];\n",
    "```\n",
    "\n",
    "\n",
    "- Initializing:\n",
    "```\n",
    "int x[5] = {1,2,3,5,6};\n",
    "```\n",
    "        "
   ]
  },
  {
   "cell_type": "markdown",
   "id": "a989cca1",
   "metadata": {
    "slideshow": {
     "slide_type": "slide"
    },
    "pycharm": {
     "name": "#%% md\n"
    }
   },
   "source": [
    "### Python:\n",
    "\n",
    "In Python we don't have arrays as a native data structure, although there are some implementations in other libraries (e.g., numpy). The closest to arrays are `lists` but there are a few differences:\n",
    "- arrays need to be declared, list don't\n",
    "- arrays can store data more efficiently\n",
    "- arrays are good for numerical analysis and operations\n",
    "\n"
   ]
  },
  {
   "cell_type": "markdown",
   "id": "7168f95f",
   "metadata": {
    "slideshow": {
     "slide_type": "slide"
    },
    "pycharm": {
     "name": "#%% md\n"
    }
   },
   "source": [
    "### Let's define our own Python array class:\n",
    "\n",
    "- Our class creates an array of size `n`"
   ]
  },
  {
   "cell_type": "code",
   "execution_count": 32,
   "id": "5b2ec761",
   "metadata": {
    "slideshow": {
     "slide_type": "subslide"
    },
    "pycharm": {
     "name": "#%%\n"
    }
   },
   "outputs": [],
   "source": [
    "import ctypes\n",
    "\n",
    "class Array(object):\n",
    "    \"\"\"\n",
    "    Implementation of the array data structure\n",
    "    \"\"\"\n",
    "\n",
    "    def __init__(self, n):\n",
    "        \"\"\"\n",
    "        Initialize the class\n",
    "        \"\"\"\n",
    "        self.l = 0\n",
    "        self.n = n\n",
    "        self.array = self._create_array(self.n)        \n",
    "    \n",
    "    def _create_array(self, n):\n",
    "        \"\"\"\n",
    "        Creates a new array of capacity n\n",
    "        \"\"\"\n",
    "        return (n * ctypes.py_object)()"
   ]
  },
  {
   "cell_type": "markdown",
   "id": "5b12bcd9",
   "metadata": {
    "slideshow": {
     "slide_type": "slide"
    },
    "pycharm": {
     "name": "#%% md\n"
    }
   },
   "source": [
    "### Capacity and length\n",
    "\n",
    "- **Capacity:** The total number of elements that the array can hold (e.g., `n`)\n",
    "- **Length:** The total number of elements currently store in the array (e.g., `l`)"
   ]
  },
  {
   "cell_type": "code",
   "execution_count": 33,
   "id": "6feac994",
   "metadata": {
    "slideshow": {
     "slide_type": "subslide"
    },
    "pycharm": {
     "name": "#%%\n"
    }
   },
   "outputs": [
    {
     "name": "stdout",
     "output_type": "stream",
     "text": [
      "4 0\n",
      "<__main__.py_object_Array_4 object at 0x117f96ec0>\n"
     ]
    }
   ],
   "source": [
    "A = Array(4)\n",
    "print(A.n, A.l)\n",
    "print(A.array)"
   ]
  },
  {
   "cell_type": "code",
   "execution_count": 60,
   "id": "ebd56475",
   "metadata": {
    "slideshow": {
     "slide_type": "subslide"
    },
    "pycharm": {
     "name": "#%%\n"
    }
   },
   "outputs": [],
   "source": [
    "A[0] = 1"
   ]
  },
  {
   "cell_type": "markdown",
   "id": "1a54dc82",
   "metadata": {
    "slideshow": {
     "slide_type": "slide"
    },
    "pycharm": {
     "name": "#%% md\n"
    }
   },
   "source": [
    "### Primitive operations:\n",
    "\n",
    "- The most primitive operations are to write items in the arrays, and to read them from the array\n",
    "- All other operations are built on top of these\n",
    "- RAM model"
   ]
  },
  {
   "cell_type": "markdown",
   "id": "b62174f8",
   "metadata": {
    "slideshow": {
     "slide_type": "subslide"
    },
    "pycharm": {
     "name": "#%% md\n"
    }
   },
   "source": [
    "### What about the cost?\n",
    "- Both read and write have an execution time of $O(1)$\n",
    "- What does $O(1)$ mean?"
   ]
  },
  {
   "cell_type": "code",
   "execution_count": 35,
   "id": "5000ac73",
   "metadata": {
    "slideshow": {
     "slide_type": "subslide"
    },
    "pycharm": {
     "name": "#%%\n"
    }
   },
   "outputs": [],
   "source": [
    "class Array(Array):\n",
    "    def __getitem__(self, item_index):\n",
    "        \"\"\"\n",
    "        Return element at item_index\n",
    "        \"\"\"\n",
    "        if (item_index < 0) or (item_index >= self.n):\n",
    "            raise IndexError('index out of range!')\n",
    "        try:\n",
    "            x = self.array[item_index]\n",
    "        except ValueError:\n",
    "            x = None\n",
    "        return x\n",
    "    \n",
    "    def __setitem__(self, item_index, item):\n",
    "        \"\"\"\n",
    "        Set element at item_index\n",
    "        \"\"\"\n",
    "        if (item_index < 0) or (item_index >= self.n):\n",
    "            raise IndexError('index out of range!')\n",
    "        self.array[item_index] = item\n"
   ]
  },
  {
   "cell_type": "markdown",
   "id": "f397722d",
   "metadata": {
    "slideshow": {
     "slide_type": "subslide"
    },
    "pycharm": {
     "name": "#%% md\n"
    }
   },
   "source": [
    "### Get and set\n",
    "\n",
    "- What do the `__getitem__` and `__setitem__` methods do?"
   ]
  },
  {
   "cell_type": "code",
   "execution_count": 36,
   "id": "b01586b2",
   "metadata": {
    "slideshow": {
     "slide_type": "subslide"
    },
    "pycharm": {
     "name": "#%%\n"
    }
   },
   "outputs": [],
   "source": [
    "A = Array(4)\n",
    "\n",
    "A[0] = 0     # A.__setitem__(0,0)\n",
    "A[1] = 2     # A.__setitem__(1,2)\n",
    "A[2] = 4"
   ]
  },
  {
   "cell_type": "code",
   "execution_count": 37,
   "id": "07c0c7f1",
   "metadata": {
    "slideshow": {
     "slide_type": "subslide"
    },
    "pycharm": {
     "name": "#%%\n"
    }
   },
   "outputs": [
    {
     "data": {
      "text/plain": "0"
     },
     "execution_count": 37,
     "metadata": {},
     "output_type": "execute_result"
    }
   ],
   "source": [
    "A[0], A[1], A[2]    # A.__getitem__(0), A.__getitem__(1), A.__getitem__(2)\n",
    "A.__getitem__(0)"
   ]
  },
  {
   "cell_type": "code",
   "execution_count": 38,
   "id": "006cc97a",
   "metadata": {
    "slideshow": {
     "slide_type": "subslide"
    },
    "pycharm": {
     "name": "#%%\n"
    }
   },
   "outputs": [],
   "source": [
    "A[3]"
   ]
  },
  {
   "cell_type": "code",
   "execution_count": 61,
   "id": "47d92e6b",
   "metadata": {
    "slideshow": {
     "slide_type": "subslide"
    },
    "pycharm": {
     "name": "#%%\n"
    }
   },
   "outputs": [
    {
     "name": "stdout",
     "output_type": "stream",
     "text": [
      "5\n"
     ]
    },
    {
     "data": {
      "text/plain": "5"
     },
     "execution_count": 61,
     "metadata": {},
     "output_type": "execute_result"
    }
   ],
   "source": [
    "print(A[3])\n",
    "A.array[3]"
   ]
  },
  {
   "cell_type": "code",
   "execution_count": 40,
   "id": "92fbda28",
   "metadata": {
    "slideshow": {
     "slide_type": "subslide"
    },
    "pycharm": {
     "name": "#%%\n"
    }
   },
   "outputs": [
    {
     "data": {
      "text/plain": "<__main__.Array at 0x1071a9160>"
     },
     "execution_count": 40,
     "metadata": {},
     "output_type": "execute_result"
    }
   ],
   "source": [
    "A[0] = -2\n",
    "A[0], A[1], A[2]\n",
    "A"
   ]
  },
  {
   "cell_type": "markdown",
   "id": "aadec369",
   "metadata": {
    "slideshow": {
     "slide_type": "slide"
    },
    "pycharm": {
     "name": "#%% md\n"
    }
   },
   "source": [
    "### Reading and writing in loops\n",
    "- To initialize the array we need to write with a loop\n",
    "- Similarly to listing the array\n",
    "- Complexity of these operations is $O(n)$"
   ]
  },
  {
   "cell_type": "code",
   "execution_count": 133,
   "id": "18ca2db5",
   "metadata": {
    "slideshow": {
     "slide_type": "subslide"
    },
    "pycharm": {
     "name": "#%%\n"
    }
   },
   "outputs": [],
   "source": [
    "class Array(Array):\n",
    "    \n",
    "    def __init__(self,vartype,n, values=None):\n",
    "        self.vartype = vartype\n",
    "        self.l = 0\n",
    "        self.n = n\n",
    "        self.array = self._create_array(self.n)\n",
    "        counter = 0\n",
    "        elements = 0\n",
    "        for i in range(len(values)):\n",
    "            if(isinstance(values[i],vartype)):\n",
    "                counter+=1\n",
    "            elements+=1\n",
    "        if values and counter == elements:\n",
    "            self.initialize_array(values)\n",
    "        else:\n",
    "            raise ValueError('the list given has different types of types')\n",
    "            \n",
    "    def initialize_array(self, values):\n",
    "        \"\"\"\n",
    "        Initialize array\n",
    "        \"\"\"\n",
    "        if self.n != len(values):\n",
    "            raise ValueError(\"element count different than capacity\")\n",
    "        for item in values:\n",
    "            self.array[self.l] = item\n",
    "            self.l += 1\n",
    "            \n",
    "    def list_array(self):\n",
    "        \"\"\"\n",
    "        List elements of the array\n",
    "        using list comprehension\n",
    "        \"\"\"\n",
    "        return \", \".join(str(x) if x is not None else '_' for x in self)\n",
    "\n",
    "    def list_array2(self):    \n",
    "        y = []    \n",
    "        for x in self:\n",
    "            if x is not None:\n",
    "                y.append(str(x))\n",
    "            else:\n",
    "                y.append('_')\n",
    "        return \", \".join(y)"
   ]
  },
  {
   "cell_type": "code",
   "execution_count": 134,
   "outputs": [
    {
     "ename": "ValueError",
     "evalue": "the list given has different types of types",
     "output_type": "error",
     "traceback": [
      "\u001B[0;31m---------------------------------------------------------------------------\u001B[0m",
      "\u001B[0;31mValueError\u001B[0m                                Traceback (most recent call last)",
      "Input \u001B[0;32mIn [134]\u001B[0m, in \u001B[0;36m<cell line: 1>\u001B[0;34m()\u001B[0m\n\u001B[0;32m----> 1\u001B[0m l \u001B[38;5;241m=\u001B[39m \u001B[43mArray\u001B[49m\u001B[43m(\u001B[49m\u001B[38;5;28;43mstr\u001B[39;49m\u001B[43m,\u001B[49m\u001B[38;5;241;43m3\u001B[39;49m\u001B[43m,\u001B[49m\u001B[43m[\u001B[49m\u001B[38;5;241;43m1\u001B[39;49m\u001B[43m,\u001B[49m\u001B[38;5;241;43m1\u001B[39;49m\u001B[43m,\u001B[49m\u001B[38;5;241;43m2\u001B[39;49m\u001B[43m]\u001B[49m\u001B[43m)\u001B[49m\n",
      "Input \u001B[0;32mIn [133]\u001B[0m, in \u001B[0;36mArray.__init__\u001B[0;34m(self, vartype, n, values)\u001B[0m\n\u001B[1;32m     15\u001B[0m     \u001B[38;5;28mself\u001B[39m\u001B[38;5;241m.\u001B[39minitialize_array(values)\n\u001B[1;32m     16\u001B[0m \u001B[38;5;28;01melse\u001B[39;00m:\n\u001B[0;32m---> 17\u001B[0m     \u001B[38;5;28;01mraise\u001B[39;00m \u001B[38;5;167;01mValueError\u001B[39;00m(\u001B[38;5;124m'\u001B[39m\u001B[38;5;124mthe list given has different types of types\u001B[39m\u001B[38;5;124m'\u001B[39m)\n",
      "\u001B[0;31mValueError\u001B[0m: the list given has different types of types"
     ]
    }
   ],
   "source": [
    "l = Array(str,3,[1,1,2])"
   ],
   "metadata": {
    "collapsed": false,
    "pycharm": {
     "name": "#%%\n"
    }
   }
  },
  {
   "cell_type": "code",
   "execution_count": 42,
   "id": "9edc328d",
   "metadata": {
    "slideshow": {
     "slide_type": "subslide"
    },
    "pycharm": {
     "name": "#%%\n"
    }
   },
   "outputs": [],
   "source": [
    "x = Array(5, [0,-2,6,5,3])"
   ]
  },
  {
   "cell_type": "code",
   "execution_count": 43,
   "id": "148a5d48",
   "metadata": {
    "slideshow": {
     "slide_type": "subslide"
    },
    "pycharm": {
     "name": "#%%\n"
    }
   },
   "outputs": [
    {
     "data": {
      "text/plain": "'0, -2, 6, 5, 3'"
     },
     "execution_count": 43,
     "metadata": {},
     "output_type": "execute_result"
    }
   ],
   "source": [
    "x.list_array()"
   ]
  },
  {
   "cell_type": "markdown",
   "id": "56ba29fe",
   "metadata": {
    "slideshow": {
     "slide_type": "slide"
    },
    "pycharm": {
     "name": "#%% md\n"
    }
   },
   "source": [
    "### Array operations\n",
    "- insert\n",
    "- delete\n",
    "- search"
   ]
  },
  {
   "cell_type": "markdown",
   "id": "63e0faf7",
   "metadata": {
    "slideshow": {
     "slide_type": "slide"
    },
    "pycharm": {
     "name": "#%% md\n"
    }
   },
   "source": [
    "### Insert\n",
    "- Insert a new element at the end of the Array\n",
    "- Insert it at the beginning of the Array\n",
    "- Insert it at any given index inside the Array\n",
    "- Complexity is $O(n)$\n",
    "\n",
    "\n",
    "A = [1,2,5,\\_,\\_]\n",
    "\n",
    "insert 6 at the end:\n",
    "[1,2,5,6,\\_]\n",
    "\n",
    "insert 6 at the beginning:\n",
    "[6,1,2,5,\\_]\n",
    "\n",
    "instert 6 at index 1\n",
    "[1,6,2,5,\\_]"
   ]
  },
  {
   "cell_type": "markdown",
   "id": "bca87dae",
   "metadata": {
    "slideshow": {
     "slide_type": "subslide"
    },
    "pycharm": {
     "name": "#%% md\n"
    }
   },
   "source": [
    "### At the end:\n",
    "\n",
    "`A = [0, 3, 4, _, _]`\n",
    "\n",
    "Element to insert: `x=8`\n",
    "\n",
    "`A = [0, 3, 4, 8, _]`\n",
    "\n",
    "**Complexity?**"
   ]
  },
  {
   "cell_type": "code",
   "execution_count": 44,
   "id": "3451d9ee",
   "metadata": {
    "slideshow": {
     "slide_type": "subslide"
    },
    "pycharm": {
     "name": "#%%\n"
    }
   },
   "outputs": [],
   "source": [
    "class Array(Array):\n",
    "    def insert_to_tail(self, item):\n",
    "        \"\"\"\n",
    "        Add new item to the tail of the array\n",
    "        \"\"\"\n",
    "        if self.l == self.n:\n",
    "            raise ValueError(\"no more capacity\")\n",
    "        self.array[self.l] = item\n",
    "        self.l += 1"
   ]
  },
  {
   "cell_type": "markdown",
   "id": "9f340ddc",
   "metadata": {
    "slideshow": {
     "slide_type": "subslide"
    },
    "pycharm": {
     "name": "#%% md\n"
    }
   },
   "source": [
    "### At the beginning: \n",
    "\n",
    "`A = [0, 3, 4, _, _]`\n",
    "\n",
    "Element to insert: `x=8`\n",
    "\n",
    "`A = [8, 0, 3, 4, _]`\n",
    "\n",
    "**Complexity?**\n"
   ]
  },
  {
   "cell_type": "code",
   "execution_count": 45,
   "id": "e445aaff",
   "metadata": {
    "slideshow": {
     "slide_type": "subslide"
    },
    "pycharm": {
     "name": "#%%\n"
    }
   },
   "outputs": [],
   "source": [
    "class Array(Array):\n",
    "    def insert_to_head(self, item):\n",
    "        \"\"\"\n",
    "        Add new item to the beginning of the array\n",
    "        \"\"\"\n",
    "        if self.l == self.n:\n",
    "            raise ValueError(\"no more capacity\")\n",
    "        i = self.l\n",
    "        while (i > 0):\n",
    "            self.array[i] = self.array[i-1]\n",
    "            i -= 1\n",
    "        self.array[0] = item\n",
    "        self.l += 1"
   ]
  },
  {
   "cell_type": "markdown",
   "id": "d812039d",
   "metadata": {
    "slideshow": {
     "slide_type": "subslide"
    },
    "pycharm": {
     "name": "#%% md\n"
    }
   },
   "source": [
    "### Insert using an index \n",
    "\n",
    "`A = [0, 3, 4, _, _]`\n",
    "\n",
    "Element to insert: `x=8`\n",
    "\n",
    "Index: `1`\n",
    "\n",
    "`A = [0, 8, 3, 4, _]`\n",
    "\n",
    "**Complexity?**"
   ]
  },
  {
   "cell_type": "code",
   "execution_count": 46,
   "id": "7af14af4",
   "metadata": {
    "slideshow": {
     "slide_type": "subslide"
    },
    "pycharm": {
     "name": "#%%\n"
    }
   },
   "outputs": [],
   "source": [
    "class Array(Array):\n",
    "    def insert(self, index, element):\n",
    "        \"\"\"\n",
    "        implementation of insert\n",
    "        \"\"\"\n",
    "        if self.l == self.n:\n",
    "            raise ValueError(\"no more capacity\")\n",
    "        if (index < 0) or (index > self.l):\n",
    "            raise IndexError('index out of range!')\n",
    "        x = self.l\n",
    "        while x > index:\n",
    "            self.array[x] = self.array[x-1]\n",
    "            x -= 1\n",
    "        self.array[index] = element\n",
    "        self.l += 1"
   ]
  },
  {
   "cell_type": "code",
   "execution_count": 47,
   "id": "71fce434",
   "metadata": {
    "slideshow": {
     "slide_type": "subslide"
    },
    "pycharm": {
     "name": "#%%\n"
    }
   },
   "outputs": [],
   "source": [
    "A = Array(10)"
   ]
  },
  {
   "cell_type": "code",
   "execution_count": 48,
   "id": "71e23588",
   "metadata": {
    "slideshow": {
     "slide_type": "subslide"
    },
    "pycharm": {
     "name": "#%%\n"
    }
   },
   "outputs": [
    {
     "name": "stdout",
     "output_type": "stream",
     "text": [
      "2, _, _, _, _, _, _, _, _, _\n",
      "-1, 2, _, _, _, _, _, _, _, _\n",
      "4, -1, 2, _, _, _, _, _, _, _\n"
     ]
    }
   ],
   "source": [
    "# Insert at the beginning\n",
    "A.insert(0,2)\n",
    "print(A.list_array())\n",
    "A.insert(0,-1)\n",
    "print(A.list_array())\n",
    "A.insert(0,4)\n",
    "print(A.list_array())"
   ]
  },
  {
   "cell_type": "code",
   "execution_count": 62,
   "id": "afa92129",
   "metadata": {
    "slideshow": {
     "slide_type": "subslide"
    },
    "pycharm": {
     "name": "#%%\n"
    }
   },
   "outputs": [
    {
     "ename": "ValueError",
     "evalue": "no more capacity",
     "output_type": "error",
     "traceback": [
      "\u001B[0;31m---------------------------------------------------------------------------\u001B[0m",
      "\u001B[0;31mValueError\u001B[0m                                Traceback (most recent call last)",
      "Input \u001B[0;32mIn [62]\u001B[0m, in \u001B[0;36m<cell line: 2>\u001B[0;34m()\u001B[0m\n\u001B[1;32m      1\u001B[0m \u001B[38;5;66;03m# Insert at the end\u001B[39;00m\n\u001B[0;32m----> 2\u001B[0m \u001B[43mA\u001B[49m\u001B[38;5;241;43m.\u001B[39;49m\u001B[43minsert\u001B[49m\u001B[43m(\u001B[49m\u001B[43mA\u001B[49m\u001B[38;5;241;43m.\u001B[39;49m\u001B[43ml\u001B[49m\u001B[43m,\u001B[49m\u001B[38;5;241;43m8\u001B[39;49m\u001B[43m)\u001B[49m\n\u001B[1;32m      3\u001B[0m A\u001B[38;5;241m.\u001B[39mlist_array()\n",
      "Input \u001B[0;32mIn [46]\u001B[0m, in \u001B[0;36mArray.insert\u001B[0;34m(self, index, element)\u001B[0m\n\u001B[1;32m      3\u001B[0m \u001B[38;5;124;03m\"\"\"\u001B[39;00m\n\u001B[1;32m      4\u001B[0m \u001B[38;5;124;03mimplementation of insert\u001B[39;00m\n\u001B[1;32m      5\u001B[0m \u001B[38;5;124;03m\"\"\"\u001B[39;00m\n\u001B[1;32m      6\u001B[0m \u001B[38;5;28;01mif\u001B[39;00m \u001B[38;5;28mself\u001B[39m\u001B[38;5;241m.\u001B[39ml \u001B[38;5;241m==\u001B[39m \u001B[38;5;28mself\u001B[39m\u001B[38;5;241m.\u001B[39mn:\n\u001B[0;32m----> 7\u001B[0m     \u001B[38;5;28;01mraise\u001B[39;00m \u001B[38;5;167;01mValueError\u001B[39;00m(\u001B[38;5;124m\"\u001B[39m\u001B[38;5;124mno more capacity\u001B[39m\u001B[38;5;124m\"\u001B[39m)\n\u001B[1;32m      8\u001B[0m \u001B[38;5;28;01mif\u001B[39;00m (index \u001B[38;5;241m<\u001B[39m \u001B[38;5;241m0\u001B[39m) \u001B[38;5;129;01mor\u001B[39;00m (index \u001B[38;5;241m>\u001B[39m \u001B[38;5;28mself\u001B[39m\u001B[38;5;241m.\u001B[39ml):\n\u001B[1;32m      9\u001B[0m     \u001B[38;5;28;01mraise\u001B[39;00m \u001B[38;5;167;01mIndexError\u001B[39;00m(\u001B[38;5;124m'\u001B[39m\u001B[38;5;124mindex out of range!\u001B[39m\u001B[38;5;124m'\u001B[39m)\n",
      "\u001B[0;31mValueError\u001B[0m: no more capacity"
     ]
    }
   ],
   "source": [
    "# Insert at the end\n",
    "A.insert(A.l,8)\n",
    "A.list_array()"
   ]
  },
  {
   "cell_type": "code",
   "execution_count": 50,
   "id": "395a8ffa",
   "metadata": {
    "slideshow": {
     "slide_type": "subslide"
    },
    "pycharm": {
     "name": "#%%\n"
    }
   },
   "outputs": [
    {
     "data": {
      "text/plain": "'4, -1, 2, 8, _, _, _, _, _, _'"
     },
     "execution_count": 50,
     "metadata": {},
     "output_type": "execute_result"
    }
   ],
   "source": [
    "# Insert in the middle\n",
    "#A.insert(1,3)\n",
    "A.list_array()"
   ]
  },
  {
   "cell_type": "markdown",
   "id": "516fa3be",
   "metadata": {
    "slideshow": {
     "slide_type": "slide"
    },
    "pycharm": {
     "name": "#%% md\n"
    }
   },
   "source": [
    "### Deletion\n",
    "- Deleting the last element\n",
    "- Delete the first element\n",
    "- Delete at any given index"
   ]
  },
  {
   "cell_type": "markdown",
   "id": "0fa2bde5",
   "metadata": {
    "slideshow": {
     "slide_type": "subslide"
    },
    "pycharm": {
     "name": "#%% md\n"
    }
   },
   "source": [
    "### Deleting the last element\n",
    "\n",
    "- The length of the array tells us which element needs to be deleted\n",
    "\n",
    "`A = [0, 3, 4, 8, 7]`\n",
    "\n",
    "Delete last item (`7`):\n",
    "\n",
    "`A = [0, 3, 4, 8, _]`"
   ]
  },
  {
   "cell_type": "markdown",
   "id": "54b3b6a5",
   "metadata": {
    "slideshow": {
     "slide_type": "subslide"
    },
    "pycharm": {
     "name": "#%% md\n"
    }
   },
   "source": [
    "### Deleting the first element\n",
    "\n",
    "- We need to shift all elements to the left\n",
    "\n",
    "`A = [0, 3, 4, 8, 7]`\n",
    "\n",
    "Delete first item (`0`):\n",
    "\n",
    "`A = [3, 4, 8, 7, _]`"
   ]
  },
  {
   "cell_type": "markdown",
   "id": "d33150bf",
   "metadata": {
    "slideshow": {
     "slide_type": "subslide"
    },
    "pycharm": {
     "name": "#%% md\n"
    }
   },
   "source": [
    "### Delete using an index \n",
    "\n",
    "`A = [0, 3, 4, 8, 7]`\n",
    "\n",
    "Index: `2`\n",
    "\n",
    "`A = [0, 3, 8, 7, _]`\n"
   ]
  },
  {
   "cell_type": "code",
   "execution_count": 51,
   "id": "c659bfc1",
   "metadata": {
    "slideshow": {
     "slide_type": "subslide"
    },
    "pycharm": {
     "name": "#%%\n"
    }
   },
   "outputs": [
    {
     "data": {
      "text/plain": "'0, -2, 4, 5, 3'"
     },
     "execution_count": 51,
     "metadata": {},
     "output_type": "execute_result"
    }
   ],
   "source": [
    "A = Array(5, [0,-2,4,5,3])\n",
    "A.list_array()"
   ]
  },
  {
   "cell_type": "code",
   "execution_count": 52,
   "id": "40cbdafa",
   "metadata": {
    "slideshow": {
     "slide_type": "subslide"
    },
    "pycharm": {
     "name": "#%%\n"
    }
   },
   "outputs": [
    {
     "ename": "AttributeError",
     "evalue": "'Array' object has no attribute 'delete'",
     "output_type": "error",
     "traceback": [
      "\u001B[0;31m---------------------------------------------------------------------------\u001B[0m",
      "\u001B[0;31mAttributeError\u001B[0m                            Traceback (most recent call last)",
      "Input \u001B[0;32mIn [52]\u001B[0m, in \u001B[0;36m<cell line: 2>\u001B[0;34m()\u001B[0m\n\u001B[1;32m      1\u001B[0m \u001B[38;5;66;03m# Delete in the middle\u001B[39;00m\n\u001B[0;32m----> 2\u001B[0m \u001B[43mA\u001B[49m\u001B[38;5;241;43m.\u001B[39;49m\u001B[43mdelete\u001B[49m(\u001B[38;5;241m2\u001B[39m)\n\u001B[1;32m      3\u001B[0m A\u001B[38;5;241m.\u001B[39mlist_array()\n",
      "\u001B[0;31mAttributeError\u001B[0m: 'Array' object has no attribute 'delete'"
     ]
    }
   ],
   "source": [
    "# Delete in the middle\n",
    "A.delete(2)\n",
    "A.list_array()"
   ]
  },
  {
   "cell_type": "code",
   "execution_count": 53,
   "id": "d67b7f3f",
   "metadata": {
    "slideshow": {
     "slide_type": "subslide"
    },
    "pycharm": {
     "name": "#%%\n"
    }
   },
   "outputs": [
    {
     "ename": "AttributeError",
     "evalue": "'Array' object has no attribute 'delete'",
     "output_type": "error",
     "traceback": [
      "\u001B[0;31m---------------------------------------------------------------------------\u001B[0m",
      "\u001B[0;31mAttributeError\u001B[0m                            Traceback (most recent call last)",
      "Input \u001B[0;32mIn [53]\u001B[0m, in \u001B[0;36m<cell line: 2>\u001B[0;34m()\u001B[0m\n\u001B[1;32m      1\u001B[0m \u001B[38;5;66;03m# Delete at the beginning\u001B[39;00m\n\u001B[0;32m----> 2\u001B[0m \u001B[43mA\u001B[49m\u001B[38;5;241;43m.\u001B[39;49m\u001B[43mdelete\u001B[49m(\u001B[38;5;241m0\u001B[39m)\n\u001B[1;32m      3\u001B[0m A\u001B[38;5;241m.\u001B[39mlist_array()\n",
      "\u001B[0;31mAttributeError\u001B[0m: 'Array' object has no attribute 'delete'"
     ]
    }
   ],
   "source": [
    "# Delete at the beginning\n",
    "A.delete(0)\n",
    "A.list_array()"
   ]
  },
  {
   "cell_type": "code",
   "execution_count": 54,
   "id": "f88c9fb5",
   "metadata": {
    "slideshow": {
     "slide_type": "subslide"
    },
    "pycharm": {
     "name": "#%%\n"
    }
   },
   "outputs": [
    {
     "ename": "AttributeError",
     "evalue": "'Array' object has no attribute 'delete'",
     "output_type": "error",
     "traceback": [
      "\u001B[0;31m---------------------------------------------------------------------------\u001B[0m",
      "\u001B[0;31mAttributeError\u001B[0m                            Traceback (most recent call last)",
      "Input \u001B[0;32mIn [54]\u001B[0m, in \u001B[0;36m<cell line: 2>\u001B[0;34m()\u001B[0m\n\u001B[1;32m      1\u001B[0m \u001B[38;5;66;03m# Delete at the end\u001B[39;00m\n\u001B[0;32m----> 2\u001B[0m \u001B[43mA\u001B[49m\u001B[38;5;241;43m.\u001B[39;49m\u001B[43mdelete\u001B[49m(A\u001B[38;5;241m.\u001B[39ml\u001B[38;5;241m-\u001B[39m\u001B[38;5;241m1\u001B[39m)\n\u001B[1;32m      3\u001B[0m A\u001B[38;5;241m.\u001B[39mlist_array()\n",
      "\u001B[0;31mAttributeError\u001B[0m: 'Array' object has no attribute 'delete'"
     ]
    }
   ],
   "source": [
    "# Delete at the end\n",
    "A.delete(A.l-1)\n",
    "A.list_array()"
   ]
  },
  {
   "cell_type": "markdown",
   "id": "e0f1d793",
   "metadata": {
    "slideshow": {
     "slide_type": "slide"
    },
    "pycharm": {
     "name": "#%% md\n"
    }
   },
   "source": [
    "### Search\n",
    "\n",
    "- Most important operation of all\n",
    "- It comes down to how fast the search occurs\n",
    "- It's important to understand the memory requirement imposed by the data structure\n"
   ]
  },
  {
   "cell_type": "markdown",
   "id": "96d0c342",
   "metadata": {
    "slideshow": {
     "slide_type": "subslide"
    },
    "pycharm": {
     "name": "#%% md\n"
    }
   },
   "source": [
    "### Linear search\n",
    "- Index not known\n",
    "- Check each element in the Array until we find the element or we reach the end\n",
    "- Complexity is $O(n)$"
   ]
  },
  {
   "cell_type": "code",
   "execution_count": 55,
   "id": "2c54ee4b",
   "metadata": {
    "slideshow": {
     "slide_type": "subslide"
    },
    "pycharm": {
     "name": "#%%\n"
    }
   },
   "outputs": [],
   "source": [
    "class Array(Array):\n",
    "    def linear_search(self, element):\n",
    "        \"\"\"\n",
    "        Return the index of element\n",
    "        \"\"\"\n",
    "        for i in range(self.l):\n",
    "            if self[i] == element:\n",
    "                return i\n",
    "        return None\n",
    "        "
   ]
  },
  {
   "cell_type": "code",
   "execution_count": 56,
   "id": "cebbc6c6",
   "metadata": {
    "slideshow": {
     "slide_type": "subslide"
    },
    "pycharm": {
     "name": "#%%\n"
    }
   },
   "outputs": [
    {
     "data": {
      "text/plain": "'0, -2, 4, 5, 3'"
     },
     "execution_count": 56,
     "metadata": {},
     "output_type": "execute_result"
    }
   ],
   "source": [
    "A = Array(5, [0,-2,4,5,3])\n",
    "A.list_array()"
   ]
  },
  {
   "cell_type": "code",
   "execution_count": 57,
   "id": "692fc030",
   "metadata": {
    "slideshow": {
     "slide_type": "subslide"
    },
    "pycharm": {
     "name": "#%%\n"
    }
   },
   "outputs": [
    {
     "name": "stdout",
     "output_type": "stream",
     "text": [
      "4\n",
      "3\n"
     ]
    }
   ],
   "source": [
    "print(A.linear_search(3))\n",
    "print(A[4])"
   ]
  },
  {
   "cell_type": "code",
   "execution_count": 58,
   "id": "3e6525c8",
   "metadata": {
    "slideshow": {
     "slide_type": "subslide"
    },
    "pycharm": {
     "name": "#%%\n"
    }
   },
   "outputs": [
    {
     "name": "stdout",
     "output_type": "stream",
     "text": [
      "4\n"
     ]
    }
   ],
   "source": [
    "print(A.linear_search(3))"
   ]
  },
  {
   "cell_type": "code",
   "execution_count": 59,
   "id": "aae8c179",
   "metadata": {
    "slideshow": {
     "slide_type": "subslide"
    },
    "pycharm": {
     "name": "#%%\n"
    }
   },
   "outputs": [
    {
     "name": "stdout",
     "output_type": "stream",
     "text": [
      "None\n"
     ]
    }
   ],
   "source": [
    "print(A.linear_search(1))"
   ]
  },
  {
   "cell_type": "code",
   "execution_count": null,
   "outputs": [],
   "source": [],
   "metadata": {
    "collapsed": false,
    "pycharm": {
     "name": "#%%\n",
     "is_executing": true
    }
   }
  },
  {
   "cell_type": "code",
   "execution_count": null,
   "outputs": [],
   "source": [],
   "metadata": {
    "collapsed": false,
    "pycharm": {
     "name": "#%%\n",
     "is_executing": true
    }
   }
  },
  {
   "cell_type": "code",
   "execution_count": 30,
   "outputs": [],
   "source": [],
   "metadata": {
    "collapsed": false,
    "pycharm": {
     "name": "#%%\n"
    }
   }
  }
 ],
 "metadata": {
  "celltoolbar": "Slideshow",
  "kernelspec": {
   "display_name": "Python 3",
   "language": "python",
   "name": "python3"
  },
  "language_info": {
   "codemirror_mode": {
    "name": "ipython",
    "version": 3
   },
   "file_extension": ".py",
   "mimetype": "text/x-python",
   "name": "python",
   "nbconvert_exporter": "python",
   "pygments_lexer": "ipython3",
   "version": "3.8.8"
  }
 },
 "nbformat": 4,
 "nbformat_minor": 5
}