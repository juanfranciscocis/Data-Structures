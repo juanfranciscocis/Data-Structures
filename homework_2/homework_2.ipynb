{
 "cells": [
  {
   "cell_type": "markdown",
   "source": [
    "# HOMEWORK 2\n",
    "## JUAN FRANCISCO CISNEROS"
   ],
   "metadata": {
    "collapsed": false
   }
  },
  {
   "cell_type": "markdown",
   "source": [
    "### 1. Implement the class `Stacks` and all its methods using singly linked lists. Analyze the runtime and memory complexity, and compare with what we studied in class\n"
   ],
   "metadata": {
    "collapsed": false
   }
  },
  {
   "cell_type": "markdown",
   "source": [
    "##### 1.LETS USE THE CLASS IMPLEMENTATION FOR NODE AND SINGLE LIKED LIST"
   ],
   "metadata": {
    "collapsed": false
   }
  },
  {
   "cell_type": "code",
   "execution_count": 1,
   "outputs": [],
   "source": [
    "import ctypes\n",
    "import math\n",
    "class Node:\n",
    "    \"\"\"\n",
    "    Implementation of a node\n",
    "    \"\"\"\n",
    "    def __init__(self, val=None): #CONSTANT\n",
    "        self.val = val\n",
    "        self.next_node = None\n",
    "\n",
    "    def set_next_node(self, next_node): #CONSTANT\n",
    "        self.next_node = next_node\n"
   ],
   "metadata": {
    "collapsed": false
   }
  },
  {
   "cell_type": "markdown",
   "source": [
    "###### THE CLASS NODE IS CONSTANT O(1)"
   ],
   "metadata": {
    "collapsed": false
   }
  },
  {
   "cell_type": "code",
   "execution_count": 2,
   "outputs": [],
   "source": [
    "class Singly_linked_list:\n",
    "    \"\"\"\n",
    "    Implementation of a singly linked list\n",
    "    \"\"\"\n",
    "    def __init__(self, head_node=None): #CONSTANT\n",
    "        self.head_node = head_node\n",
    "\n",
    "    def list_traversed(self):\n",
    "        node = self.head_node\n",
    "        while node:\n",
    "            try:\n",
    "                print(node.val)\n",
    "                node = node.next_node\n",
    "            except:\n",
    "                print()\n",
    "\n",
    "    def insert_head(self, new_node): #CONSTANT\n",
    "        # insert to the head\n",
    "        # A -> B -> null\n",
    "        # R -> A -> B -> null\n",
    "        new_node.set_next_node(self.head_node)\n",
    "        self.head_node = new_node\n",
    "\n",
    "    def insert_tail(self, new_node):\n",
    "        # insert to the tail\n",
    "        # A -> B -> null\n",
    "        # A -> B -> R -> null\n",
    "        node = self.head_node\n",
    "        prev = None\n",
    "        while node:\n",
    "            prev = node\n",
    "            node = node.next_node\n",
    "        prev.set_next_node(new_node)\n",
    "\n",
    "    def insert_middle(self, new_node, value):\n",
    "        # insert in the middle\n",
    "        # A -> B -> C -> null\n",
    "        # A -> B -> R -> C -> null\n",
    "        node = self.head_node\n",
    "        while node.val != value:\n",
    "            node = node.next_node\n",
    "        if node:\n",
    "            new_node.set_next_node(node.next_node)\n",
    "            node.set_next_node(new_node)\n",
    "        else:\n",
    "            self.insert_tail(new_node)\n",
    "\n",
    "    def delete(self,value): #O(n)\n",
    "        node = self.head_node\n",
    "        prev = None\n",
    "\n",
    "        if node.val == value:\n",
    "            self.head_node = self.head_node.next_node\n",
    "            node.set_next_node(None)\n",
    "            return node.val\n",
    "\n",
    "\n",
    "        while node and node.val != value:\n",
    "            prev = node\n",
    "            if node.next_node != None:\n",
    "                node = node.next_node\n",
    "        if node:\n",
    "            prev.set_next_node(node.next_node)\n",
    "            node.set_next_node(None)\n",
    "        else:\n",
    "            raise ValueError('No value founded')"
   ],
   "metadata": {
    "collapsed": false
   }
  },
  {
   "cell_type": "markdown",
   "source": [
    "###### THE CLASS SINGLE LINKED LIST IS LINEAR O(n)"
   ],
   "metadata": {
    "collapsed": false
   }
  },
  {
   "cell_type": "markdown",
   "source": [
    "##### 2.LETS IMPLEMENT STACKS USING SINGLE LINKED LISTS"
   ],
   "metadata": {
    "collapsed": false
   }
  },
  {
   "cell_type": "code",
   "execution_count": 3,
   "outputs": [],
   "source": [
    "class Stack(object):\n",
    "    \"\"\"\n",
    "    Implementation of the stack data structure\n",
    "    \"\"\"\n",
    "\n",
    "    def __init__(self, n): #O(n)\n",
    "        self.l = 0 #CONSTANT\n",
    "        self.n = n #CONSTANT\n",
    "        self.stack = self._create_stack() #CONSTANT\n",
    "\n",
    "\n",
    "    def _create_stack(self): #CONSTANT\n",
    "        \"\"\"\n",
    "        Creates a new stack of capacity n\n",
    "        \"\"\"\n",
    "        return Singly_linked_list() #CONSTANT\n",
    "\n",
    "\n",
    "    def push(self, item):#CONSTANT\n",
    "        \"\"\"\n",
    "        Add new item to the stack\n",
    "        \"\"\"\n",
    "        if self.l == self.n: #CONSTANT\n",
    "            raise ValueError(\"no more capacity\")\n",
    "        self.stack.insert_head(Node(item)) #CONSTANT\n",
    "        self.l += 1 #CONSTANT\n",
    "\n",
    "    def pop(self): #O(n)\n",
    "        \"\"\"\n",
    "        Remove an element from the stack\n",
    "        \"\"\"\n",
    "        if not self.l: #CONSTANT\n",
    "            raise('stack is empty')\n",
    "        p = self.stack.delete(self.stack.head_node.val) #O(n)\n",
    "        self.l -= 1 #CONSTANT\n",
    "        return p\n",
    "\n",
    "\n",
    "\n",
    "    def size(self): #CONSTANT\n",
    "        \"\"\"\n",
    "        Return size of the stack\n",
    "        \"\"\"\n",
    "        return self.l\n",
    "\n",
    "    def top(self): #CONSTANT\n",
    "        \"\"\"\n",
    "        Show the top element of the stack\n",
    "        \"\"\"\n",
    "        return self.stack.head_node.val\n",
    "\n",
    "    def full(self): #CONSTANT\n",
    "        \"\"\"\n",
    "        Is the stack full?\n",
    "        \"\"\"\n",
    "        return self.l == self.n\n",
    "\n",
    "    def empty(self): #CONSTANT\n",
    "        \"\"\"\n",
    "        Is the stack empty?\n",
    "        \"\"\"\n",
    "        return self.l == 0\n",
    "\n",
    "\n",
    "\n",
    "\n"
   ],
   "metadata": {
    "collapsed": false
   }
  },
  {
   "cell_type": "markdown",
   "source": [
    "###### THE CLASS STACK IS LINEAR O(n), IF WE COMPARED IT TO THE CLASS STACK IMPLEMENTED IN CLASS WE CAN SAY THAT MY ALGORITHM IS WORST BECAUSE THE ONE WE SAW IN CLASS IS 0(1). THE FUNCTION POP() IN MY CASE IS OF TYPE O(n) WHILE EVERY FUNCTION IN THE CLASS WE IMPLEMENTED AT CLASS IS O(1)"
   ],
   "metadata": {
    "collapsed": false
   }
  },
  {
   "cell_type": "code",
   "execution_count": 4,
   "outputs": [
    {
     "data": {
      "text/plain": "4"
     },
     "execution_count": 4,
     "metadata": {},
     "output_type": "execute_result"
    }
   ],
   "source": [
    "S = Stack(10)\n",
    "S.push(\"a\")\n",
    "S.push(\"b\")\n",
    "S.push(\"c\")\n",
    "S.push(\"d\")\n",
    "S.size()"
   ],
   "metadata": {
    "collapsed": false
   }
  },
  {
   "cell_type": "code",
   "execution_count": 5,
   "outputs": [
    {
     "data": {
      "text/plain": "'d'"
     },
     "execution_count": 5,
     "metadata": {},
     "output_type": "execute_result"
    }
   ],
   "source": [
    "S.pop()"
   ],
   "metadata": {
    "collapsed": false
   }
  },
  {
   "cell_type": "code",
   "execution_count": 6,
   "outputs": [
    {
     "data": {
      "text/plain": "3"
     },
     "execution_count": 6,
     "metadata": {},
     "output_type": "execute_result"
    }
   ],
   "source": [
    "S.size()"
   ],
   "metadata": {
    "collapsed": false
   }
  },
  {
   "cell_type": "code",
   "execution_count": 7,
   "outputs": [
    {
     "data": {
      "text/plain": "'c'"
     },
     "execution_count": 7,
     "metadata": {},
     "output_type": "execute_result"
    }
   ],
   "source": [
    "S.top()"
   ],
   "metadata": {
    "collapsed": false
   }
  },
  {
   "cell_type": "code",
   "execution_count": 8,
   "outputs": [
    {
     "data": {
      "text/plain": "False"
     },
     "execution_count": 8,
     "metadata": {},
     "output_type": "execute_result"
    }
   ],
   "source": [
    "S.full()"
   ],
   "metadata": {
    "collapsed": false
   }
  },
  {
   "cell_type": "code",
   "execution_count": 9,
   "outputs": [
    {
     "data": {
      "text/plain": "False"
     },
     "execution_count": 9,
     "metadata": {},
     "output_type": "execute_result"
    }
   ],
   "source": [
    "S.empty()"
   ],
   "metadata": {
    "collapsed": false
   }
  },
  {
   "cell_type": "markdown",
   "source": [
    "### 2. Write a method part of the linked list class that will reverse the linked list. Your implementation should visit each node in the list only one time, and should use $O(1)$ of extra memory.\n",
    "\n",
    "\n",
    "> For example, if the list is:\n",
    "\n",
    "> A -> B -> C -> D -> null\n",
    "\n",
    "> The method must return:\n",
    "\n",
    "> D -> C -> B -> A -> null\n",
    "\n"
   ],
   "metadata": {
    "collapsed": false
   }
  },
  {
   "cell_type": "markdown",
   "source": [
    "##### 1.LETS USE THE CLASS IMPLEMENTATION FOR NODE AND SINGLE LIKED LIST\n",
    "##### 2. LETS IMPLEMENT THE REVERSE LIST FUNCTION"
   ],
   "metadata": {
    "collapsed": false
   }
  },
  {
   "cell_type": "code",
   "execution_count": 10,
   "outputs": [],
   "source": [
    "class Singly_linked_list(Singly_linked_list):\n",
    "\n",
    "    def reverse_list(self):\n",
    "        prev = None\n",
    "        now = self.head_node\n",
    "        while(now is not None):\n",
    "            next = now.next_node\n",
    "            now.next_node = prev\n",
    "            prev = now\n",
    "            now = next\n",
    "        self.head_node = prev\n",
    "\n"
   ],
   "metadata": {
    "collapsed": false
   }
  },
  {
   "cell_type": "code",
   "execution_count": 11,
   "outputs": [
    {
     "name": "stdout",
     "output_type": "stream",
     "text": [
      "Jan\n",
      "Feb\n",
      "March\n"
     ]
    }
   ],
   "source": [
    "m1 = Node(\"Jan\")\n",
    "m2 = Node(\"Feb\")\n",
    "m3 = Node(\"March\")\n",
    "m1.set_next_node(m2)\n",
    "m2.set_next_node(m3)\n",
    "list1 = Singly_linked_list(m1)\n",
    "list1.list_traversed()"
   ],
   "metadata": {
    "collapsed": false
   }
  },
  {
   "cell_type": "code",
   "execution_count": 12,
   "outputs": [
    {
     "name": "stdout",
     "output_type": "stream",
     "text": [
      "March\n",
      "Feb\n",
      "Jan\n"
     ]
    }
   ],
   "source": [
    "list1.reverse_list()\n",
    "list1.list_traversed()"
   ],
   "metadata": {
    "collapsed": false
   }
  },
  {
   "cell_type": "markdown",
   "source": [
    "### 3. Implement the class Queue using stacks.\n",
    "\n",
    "> a. Analyze the runtime and memory complexity, and compare with what we implemented in class.\n",
    "\n",
    "> b. Implement a few test cases that would allow you to measure the difference in runtime of the `dequeue` method. (Hint: what is the worst case, so that dequeue of the stack implementation is greater than the implementation we did in class?)\n",
    "\n",
    "\n",
    "\n",
    "# FALTA"
   ],
   "metadata": {
    "collapsed": false
   }
  },
  {
   "cell_type": "markdown",
   "source": [
    "##### 1.LETS USE THE CLASS IMPLEMENTATION FOR STACKS"
   ],
   "metadata": {
    "collapsed": false
   }
  },
  {
   "cell_type": "code",
   "execution_count": 13,
   "outputs": [],
   "source": [
    "import ctypes\n",
    "class Stack(object):\n",
    "    \"\"\"\n",
    "    Implementation of the stack data structure\n",
    "    \"\"\"\n",
    "\n",
    "    def __init__(self, n): #O(1)\n",
    "        self.l = 0\n",
    "        self.n = n\n",
    "        self.stack = self._create_stack(self.n)\n",
    "\n",
    "    def _create_stack(self, n): #O(1)\n",
    "        \"\"\"\n",
    "        Creates a new stack of capacity n\n",
    "        \"\"\"\n",
    "        return (n * ctypes.py_object)()\n",
    "\n",
    "    def push(self, item): #O(1)\n",
    "        \"\"\"\n",
    "        Add new item to the stack\n",
    "        \"\"\"\n",
    "        if self.l == self.n:\n",
    "            raise ValueError(\"no more capacity\")\n",
    "        self.stack[self.l] = item\n",
    "        self.l += 1\n",
    "\n",
    "    def pop(self): #O(1)\n",
    "        \"\"\"\n",
    "        Remove an element from the stack\n",
    "        \"\"\"\n",
    "        # self.l = 0\n",
    "        # 0 is equivalent to False\n",
    "        # any number != 0 is True\n",
    "        if not self.l:\n",
    "            raise('stack is empty')\n",
    "        c = self.stack[self.l-1]\n",
    "        self.stack[self.l] = ctypes.py_object\n",
    "        self.l -= 1\n",
    "        return c\n",
    "\n",
    "    def top(self): #O(1)\n",
    "        \"\"\"\n",
    "        Show the top element of the stack\n",
    "        \"\"\"\n",
    "        return self.stack[self.l-1]\n",
    "\n",
    "    def full(self): #O(1)\n",
    "        \"\"\"\n",
    "        Is the stack full?\n",
    "        \"\"\"\n",
    "        return self.l == self.n\n",
    "        # if self.l == self.n:\n",
    "        #    return True\n",
    "        # return False\n",
    "\n",
    "    def empty(self):#O(1)\n",
    "        \"\"\"\n",
    "        Is the stack empty?\n",
    "        \"\"\"\n",
    "        return self.l == 0\n",
    "        #if self.l == 0:\n",
    "        #    return True\n",
    "        #return False\n",
    "\n",
    "    def size(self):#O(1)\n",
    "        \"\"\"\n",
    "        Return size of the stack\n",
    "        \"\"\"\n",
    "        return self.l\n",
    "\n",
    "\n"
   ],
   "metadata": {
    "collapsed": false
   }
  },
  {
   "cell_type": "markdown",
   "source": [
    "##### THE CLASS STACKS IMPLEMENTED IN CLASS IS LINEAR O(1)"
   ],
   "metadata": {
    "collapsed": false
   }
  },
  {
   "cell_type": "markdown",
   "source": [
    "###### 2.LETS IMPLEMENT QUEUE\n"
   ],
   "metadata": {
    "collapsed": false
   }
  },
  {
   "cell_type": "code",
   "execution_count": 14,
   "outputs": [],
   "source": [
    "import ctypes\n",
    "class Queue(object):\n",
    "    \"\"\"\n",
    "    Implementation of the queue data structure\n",
    "    \"\"\"\n",
    "    def __init__(self, n): #O(1)\n",
    "        self.l = 0 #O(1)\n",
    "        self.n = n #O(1)\n",
    "        self.isReverse = False #O(1)\n",
    "        self.queue = self._create_queue(self.n) #O(1)\n",
    "\n",
    "    def _create_queue(self, n):\n",
    "        \"\"\"\n",
    "        Creates a new stack of capacity n\n",
    "        \"\"\"\n",
    "        return Stack(n) #O(1)\n",
    "\n",
    "    def enqueue(self, item): #O(1)\n",
    "        \"\"\"\n",
    "        Add new item to the queue\n",
    "        \"\"\"\n",
    "        self.isReverse = False #O(1)\n",
    "        if self.l == self.n: #O(1)\n",
    "            raise ValueError(\"no more capacity\")\n",
    "        self.queue.push(item) #O(1)\n",
    "        self.l += 1 #O(1)\n",
    "\n",
    "    def reverse(self): #O(n)\n",
    "        if not self.isReverse:\n",
    "            newStack = Stack(self.n)\n",
    "            for i in range(self.l):\n",
    "                newStack.push(self.queue.pop())\n",
    "            self.queue = newStack\n",
    "        self.isReverse = True\n",
    "\n",
    "\n",
    "    def dequeue(self): #O(n)\n",
    "        \"\"\"\n",
    "        Remove an element from the queue\n",
    "        \"\"\"\n",
    "        self.reverse() #O(n)\n",
    "        self.l -= 1 #O(1)\n",
    "        return self.queue.pop() #O(1)\n",
    "\n",
    "\n",
    "    def first(self): #O(n)\n",
    "        \"\"\"\n",
    "        Show the first element of the queue\n",
    "        \"\"\"\n",
    "        self.reverse() #O(n)\n",
    "        return self.queue.top()  #O(1)\n",
    "\n",
    "    def full(self): #O(1)\n",
    "        \"\"\"\n",
    "        Is the queue full?\n",
    "        \"\"\"\n",
    "        if self.l == self.n: #O(1)\n",
    "            return True\n",
    "        return False\n",
    "\n",
    "    def empty(self): #O(1)\n",
    "        \"\"\"\n",
    "        Is the queue empty?\n",
    "        \"\"\"\n",
    "        if self.l == 0: #O(1)\n",
    "            return True\n",
    "        return False\n",
    "\n",
    "    def size(self): #O(1)\n",
    "        \"\"\"\n",
    "        Return size of the queue\n",
    "        \"\"\"\n",
    "        return self.l #O(1)\n",
    "\n",
    "\n"
   ],
   "metadata": {
    "collapsed": false
   }
  },
  {
   "cell_type": "markdown",
   "source": [
    "##### MY CLASS STACKS IS CONSTANT O(1), EVERY FUNCTION HAS A MAX RUNTIME OF O(1) WHILE THE ONE WE IMPLEMENTED IN CLASS IS WORST PERFORMING, THE FUNCTION DEQUEUE IS O(n) WHILE MY CLASS RUNS THE ALGORITHM IN RUNTIME O(1)"
   ],
   "metadata": {
    "collapsed": false
   }
  },
  {
   "cell_type": "code",
   "execution_count": 15,
   "outputs": [],
   "source": [
    "q = Queue(10)\n",
    "q.enqueue(1)\n",
    "q.enqueue(2)\n",
    "q.enqueue(3)"
   ],
   "metadata": {
    "collapsed": false
   }
  },
  {
   "cell_type": "code",
   "execution_count": 16,
   "outputs": [
    {
     "data": {
      "text/plain": "3"
     },
     "execution_count": 16,
     "metadata": {},
     "output_type": "execute_result"
    }
   ],
   "source": [
    "q.size()"
   ],
   "metadata": {
    "collapsed": false
   }
  },
  {
   "cell_type": "code",
   "execution_count": 17,
   "outputs": [
    {
     "data": {
      "text/plain": "1"
     },
     "execution_count": 17,
     "metadata": {},
     "output_type": "execute_result"
    }
   ],
   "source": [
    "q.dequeue()"
   ],
   "metadata": {
    "collapsed": false
   }
  },
  {
   "cell_type": "code",
   "execution_count": 18,
   "outputs": [
    {
     "data": {
      "text/plain": "2"
     },
     "execution_count": 18,
     "metadata": {},
     "output_type": "execute_result"
    }
   ],
   "source": [
    "q.first()"
   ],
   "metadata": {
    "collapsed": false
   }
  },
  {
   "cell_type": "code",
   "execution_count": 19,
   "outputs": [
    {
     "data": {
      "text/plain": "2"
     },
     "execution_count": 19,
     "metadata": {},
     "output_type": "execute_result"
    }
   ],
   "source": [
    "q.dequeue()"
   ],
   "metadata": {
    "collapsed": false
   }
  },
  {
   "cell_type": "code",
   "execution_count": 20,
   "outputs": [
    {
     "data": {
      "text/plain": "3"
     },
     "execution_count": 20,
     "metadata": {},
     "output_type": "execute_result"
    }
   ],
   "source": [
    "q.first()"
   ],
   "metadata": {
    "collapsed": false
   }
  },
  {
   "cell_type": "code",
   "execution_count": 21,
   "outputs": [
    {
     "data": {
      "text/plain": "False"
     },
     "execution_count": 21,
     "metadata": {},
     "output_type": "execute_result"
    }
   ],
   "source": [
    "q.empty()"
   ],
   "metadata": {
    "collapsed": false
   }
  },
  {
   "cell_type": "code",
   "execution_count": 22,
   "outputs": [
    {
     "data": {
      "text/plain": "False"
     },
     "execution_count": 22,
     "metadata": {},
     "output_type": "execute_result"
    }
   ],
   "source": [
    "q.full()"
   ],
   "metadata": {
    "collapsed": false
   }
  },
  {
   "cell_type": "code",
   "execution_count": 23,
   "outputs": [],
   "source": [
    "q.enqueue(4)"
   ],
   "metadata": {
    "collapsed": false
   }
  },
  {
   "cell_type": "code",
   "execution_count": 24,
   "outputs": [
    {
     "data": {
      "text/plain": "3"
     },
     "execution_count": 24,
     "metadata": {},
     "output_type": "execute_result"
    }
   ],
   "source": [
    "q.first()"
   ],
   "metadata": {
    "collapsed": false
   }
  },
  {
   "cell_type": "markdown",
   "source": [
    "### 4. Complete the PriorityQueue class, so that when we call `dequeue`, the element with the highest priority will be returned. Analyze the complexity of runtime and memory of the `enqueue` and `dequeue` methods."
   ],
   "metadata": {
    "collapsed": false
   }
  },
  {
   "cell_type": "code",
   "execution_count": 25,
   "outputs": [],
   "source": [
    "import ctypes\n",
    "class PriorityQueue(object):\n",
    "    \"\"\"\n",
    "    Implementation of the queue data structure\n",
    "    \"\"\"\n",
    "\n",
    "    def __init__(self, n): #CONSTANT\n",
    "        self.l = 0 #CONSTANT\n",
    "        self.n = n #CONSTANT\n",
    "        self.queue = self._create_queue(self.n) #CONSTANT\n",
    "\n",
    "    def _create_queue(self, n): #CONSTANT\n",
    "        \"\"\"\n",
    "        Creates a new stack of capacity n\n",
    "        \"\"\"\n",
    "        return (n * ctypes.py_object)() #CONSTANT\n",
    "\n",
    "    def enqueue(self, item): #CONSTANT\n",
    "        \"\"\"\n",
    "        Add new item to the queue\n",
    "        \"\"\"\n",
    "        if self.l == self.n: #CONSTANT\n",
    "            raise ValueError(\"no more capacity\")\n",
    "        self.queue[self.l] = item #CONSTANT\n",
    "        self.l += 1 #CONSTANT\n",
    "\n",
    "\n",
    "\n",
    "    def insertionSort(self): #O(N^2)\n",
    "\n",
    "        \"\"\"\n",
    "        Delete item with the highest priority\n",
    "        \"\"\"\n",
    "        a = self.queue\n",
    "        for i in range(1, len(a)): #N VECES\n",
    "            try:\n",
    "                key = a[i] # N VECES\n",
    "                j = i-1 #N VECES\n",
    "                while j >=0 and key < a[j] : #N VECES\n",
    "                        a[j+1] = a[j]  #N VECES\n",
    "                        j -= 1  #N VECES\n",
    "                a[j+1] = key  #N VECES\n",
    "            except:\n",
    "                continue\n",
    "        sortedList = [] #CONSTANTE\n",
    "        for j in range(len(a)): #N VECES\n",
    "            try:\n",
    "                sortedList.append(a[j]) #N VECES\n",
    "            except:\n",
    "                continue\n",
    "        self.queue = sortedList\n",
    "        return self.queue\n",
    "\n",
    "\n",
    "    def dequeue(self): #O(n^2)\n",
    "        \"\"\"\n",
    "        Delete item with the highest priority\n",
    "        \"\"\"\n",
    "        self.insertionSort() # SORTING ITEMS BEFORE DEQUEUE O(n^2)\n",
    "        priority = self.queue[self.size()-1] #CONSTANT\n",
    "        newQueue = [] #CONSTANT\n",
    "        for i in range(self.size()-1): #O(n)\n",
    "            newQueue.append(self.queue[i])\n",
    "        self.queue = newQueue #CONSTANT\n",
    "        self.l -=1 #CONSTANT\n",
    "        return priority\n",
    "\n",
    "\n",
    "    def size(self):  #CONSTANT\n",
    "        \"\"\"\n",
    "        Return size of the queue\n",
    "        \"\"\"\n",
    "        return self.l #CONSTANT\n",
    "\n",
    "\n",
    "\n",
    "\n",
    "\n"
   ],
   "metadata": {
    "collapsed": false
   }
  },
  {
   "cell_type": "markdown",
   "source": [
    "##### FOR THE PRIORITY QUEUE THE MEMORY COMPLEXITY FOR BOTH ENQUEUE AND DEQUEUE IS CONSTANT O(1) WHILE THE ALGORITHM COMPLEXITY IS O(N^2), THE DEQUEUE METHOD NEEDS TO USE ANOTHER ALGORITHM TO SORT THE LIST BEFORE DELETING THE ITEM WITH THE HIGHEST PRIORITY, I USED THE INSERTION SORT ALGORITHM THAT HAS A COMPLEXITY OF $O(n^2)$"
   ],
   "metadata": {
    "collapsed": false
   }
  },
  {
   "cell_type": "code",
   "execution_count": 48,
   "outputs": [],
   "source": [
    "q = PriorityQueue(10)\n",
    "q.enqueue((1,2))\n",
    "q.enqueue((2,4))\n",
    "q.enqueue((0,1))\n",
    "q.enqueue((9,43))\n",
    "q.enqueue((1,21))"
   ],
   "metadata": {
    "collapsed": false
   }
  },
  {
   "cell_type": "code",
   "execution_count": 49,
   "outputs": [
    {
     "data": {
      "text/plain": "5"
     },
     "execution_count": 49,
     "metadata": {},
     "output_type": "execute_result"
    }
   ],
   "source": [
    "q.size()"
   ],
   "metadata": {
    "collapsed": false
   }
  },
  {
   "cell_type": "code",
   "execution_count": 50,
   "outputs": [
    {
     "data": {
      "text/plain": "(9, 43)"
     },
     "execution_count": 50,
     "metadata": {},
     "output_type": "execute_result"
    }
   ],
   "source": [
    "q.dequeue()"
   ],
   "metadata": {
    "collapsed": false
   }
  },
  {
   "cell_type": "code",
   "execution_count": 53,
   "outputs": [
    {
     "data": {
      "text/plain": "4"
     },
     "execution_count": 53,
     "metadata": {},
     "output_type": "execute_result"
    }
   ],
   "source": [
    "q.size()"
   ],
   "metadata": {
    "collapsed": false
   }
  },
  {
   "cell_type": "code",
   "execution_count": 54,
   "outputs": [
    {
     "data": {
      "text/plain": "[(0, 1), (1, 2), (1, 21), (2, 4)]"
     },
     "execution_count": 54,
     "metadata": {},
     "output_type": "execute_result"
    }
   ],
   "source": [
    "q.insertionSort()"
   ],
   "metadata": {
    "collapsed": false
   }
  },
  {
   "cell_type": "markdown",
   "source": [
    "### 5. A given linked-list (singly or doubly) represents an integer number. For example, 345 is represented by the singly-linked list 3 -> 4 ->5. Write a Python program that does the following:\n",
    "\n",
    "1. Receives three integers A, B and C as inputs. Assume that the three number have the same number of digits.\n",
    "\n",
    "2. Transform the numbers to their corresponding linked lists\n",
    "\n",
    "3. Implement the sum of the three numbers. The result A + B + C must be stored in a linked list.\n",
    "\n",
    "4. Print the result by traversing the list.\n",
    "\n",
    "5. Run your program for numbers with 1 to 100 digits, and capture the runtime. Use these number to estimate the complexity of the runtime.\n",
    "    - Hint: write a small function that uses `randint()` to generate a number of a given number of digits\n",
    "6. Analitically estimate the runtime complexity and compare with the one obtained in (5).\n",
    "\n",
    "# FALTA SUMA"
   ],
   "metadata": {
    "collapsed": false
   }
  },
  {
   "cell_type": "code",
   "execution_count": 32,
   "outputs": [],
   "source": [
    "from time import time\n",
    "\n",
    "#https://www.geeksforgeeks.org/timing-functions-with-decorators-python/ <- IMPLEMENTATION FROM, RE WRITTED BY JUAN FRANCISCO CISNEROS\n",
    "def timer_func(func):\n",
    "    # This function shows the execution time of\n",
    "    # the function object passed\n",
    "    def wrap_func(*args, **kwargs):\n",
    "        t1 = time()*10**12\n",
    "        t2 = time()*10**12\n",
    "        return t2-t1\n",
    "    return wrap_func"
   ],
   "metadata": {
    "collapsed": false
   }
  },
  {
   "cell_type": "code",
   "execution_count": 33,
   "outputs": [],
   "source": [
    "def numbers(A,B,C):\n",
    "\n",
    "    listA = Singly_linked_list(Node(str(A)[0]))\n",
    "    listB = Singly_linked_list(Node(str(B)[0]))\n",
    "    listC = Singly_linked_list(Node(str(C)[0]))\n",
    "    size = 0\n",
    "    for i in str(A):\n",
    "        try:\n",
    "            size+=1\n",
    "            listA.insert_tail(Node(str(A)[size]))\n",
    "            listB.insert_tail(Node(str(B)[size]))\n",
    "            listC.insert_tail(Node(str(C)[size]))\n",
    "        except:\n",
    "            print(listA.list_traversed())\n",
    "            print(listB.list_traversed())\n",
    "            print(listC.list_traversed())\n",
    "\n",
    "    sum = A+B+C\n",
    "    nodeSum = []\n",
    "\n",
    "    for j in str(sum):\n",
    "        nodeSum.append(Node(j))\n",
    "    for k in range(len(nodeSum)):\n",
    "        if( k == len(nodeSum)-1):\n",
    "            nodeSum[k].set_next_node(None)\n",
    "            break\n",
    "        nodeSum[k].set_next_node(nodeSum[k+1])\n",
    "    listSum = Singly_linked_list(nodeSum[0])\n",
    "    return listSum.list_traversed()"
   ],
   "metadata": {
    "collapsed": false
   }
  },
  {
   "cell_type": "code",
   "execution_count": 34,
   "outputs": [
    {
     "name": "stdout",
     "output_type": "stream",
     "text": [
      "1\n",
      "2\n",
      "3\n",
      "None\n",
      "4\n",
      "5\n",
      "6\n",
      "None\n",
      "7\n",
      "8\n",
      "9\n",
      "None\n",
      "1\n",
      "3\n",
      "6\n",
      "8\n"
     ]
    }
   ],
   "source": [
    "numbers(123,456,789)"
   ],
   "metadata": {
    "collapsed": false
   }
  },
  {
   "cell_type": "code",
   "execution_count": 35,
   "outputs": [],
   "source": [
    "@timer_func\n",
    "def numbers(A,B,C):\n",
    "\n",
    "    listA = Singly_linked_list(Node(str(A)[0]))\n",
    "    listB = Singly_linked_list(Node(str(B)[0]))\n",
    "    listC = Singly_linked_list(Node(str(C)[0]))\n",
    "    size = 0\n",
    "    for i in str(A):\n",
    "        try:\n",
    "            size+=1\n",
    "            listA.insert_tail(Node(str(A)[size]))\n",
    "            listB.insert_tail(Node(str(B)[size]))\n",
    "            listC.insert_tail(Node(str(C)[size]))\n",
    "        except:\n",
    "            print(listA.list_traversed())\n",
    "            print(listB.list_traversed())\n",
    "            print(listC.list_traversed())\n",
    "\n",
    "    sum = A+B+C\n",
    "    nodeSum = []\n",
    "\n",
    "    for j in str(sum):\n",
    "        nodeSum.append(Node(j))\n",
    "    for k in range(len(nodeSum)):\n",
    "        if( k == len(nodeSum)-1):\n",
    "            nodeSum[k].set_next_node(None)\n",
    "            break\n",
    "        nodeSum[k].set_next_node(nodeSum[k+1])\n",
    "    listSum = Singly_linked_list(nodeSum[0])\n",
    "    return listSum.list_traversed()\n"
   ],
   "metadata": {
    "collapsed": false
   }
  },
  {
   "cell_type": "code",
   "execution_count": 36,
   "outputs": [],
   "source": [
    "import random\n",
    "def getNum ():\n",
    "    return random.randint(1, int(math.pow(10,2)))"
   ],
   "metadata": {
    "collapsed": false
   }
  },
  {
   "cell_type": "code",
   "execution_count": 37,
   "outputs": [],
   "source": [
    "result = []\n",
    "for f in range(1000):\n",
    "    number = getNum()\n",
    "    n = numbers(number,number,number)\n",
    "    result.append(n)"
   ],
   "metadata": {
    "collapsed": false
   }
  },
  {
   "cell_type": "code",
   "execution_count": 38,
   "outputs": [
    {
     "data": {
      "text/plain": "          T(n)\n0    1048576.0\n1          0.0\n2          0.0\n3          0.0\n4          0.0\n..         ...\n995  1048576.0\n996        0.0\n997        0.0\n998        0.0\n999        0.0\n\n[1000 rows x 1 columns]",
      "text/html": "<div>\n<style scoped>\n    .dataframe tbody tr th:only-of-type {\n        vertical-align: middle;\n    }\n\n    .dataframe tbody tr th {\n        vertical-align: top;\n    }\n\n    .dataframe thead th {\n        text-align: right;\n    }\n</style>\n<table border=\"1\" class=\"dataframe\">\n  <thead>\n    <tr style=\"text-align: right;\">\n      <th></th>\n      <th>T(n)</th>\n    </tr>\n  </thead>\n  <tbody>\n    <tr>\n      <th>0</th>\n      <td>1048576.0</td>\n    </tr>\n    <tr>\n      <th>1</th>\n      <td>0.0</td>\n    </tr>\n    <tr>\n      <th>2</th>\n      <td>0.0</td>\n    </tr>\n    <tr>\n      <th>3</th>\n      <td>0.0</td>\n    </tr>\n    <tr>\n      <th>4</th>\n      <td>0.0</td>\n    </tr>\n    <tr>\n      <th>...</th>\n      <td>...</td>\n    </tr>\n    <tr>\n      <th>995</th>\n      <td>1048576.0</td>\n    </tr>\n    <tr>\n      <th>996</th>\n      <td>0.0</td>\n    </tr>\n    <tr>\n      <th>997</th>\n      <td>0.0</td>\n    </tr>\n    <tr>\n      <th>998</th>\n      <td>0.0</td>\n    </tr>\n    <tr>\n      <th>999</th>\n      <td>0.0</td>\n    </tr>\n  </tbody>\n</table>\n<p>1000 rows × 1 columns</p>\n</div>"
     },
     "execution_count": 38,
     "metadata": {},
     "output_type": "execute_result"
    }
   ],
   "source": [
    "from matplotlib import pyplot as plt\n",
    "import numpy as np\n",
    "import pandas as pd\n",
    "\n",
    "df = pd.DataFrame(zip(result))#DEFINE THE DATA FRAME\n",
    "df.columns = ['T(n)']\n",
    "df"
   ],
   "metadata": {
    "collapsed": false
   }
  },
  {
   "cell_type": "code",
   "execution_count": 39,
   "outputs": [
    {
     "data": {
      "text/plain": "<AxesSubplot: >"
     },
     "execution_count": 39,
     "metadata": {},
     "output_type": "execute_result"
    },
    {
     "data": {
      "text/plain": "<Figure size 640x480 with 1 Axes>",
      "image/png": "[encoded data removed]"
     },
     "metadata": {},
     "output_type": "display_data"
    }
   ],
   "source": [
    "df.plot(y='T(n)')"
   ],
   "metadata": {
    "collapsed": false
   }
  },
  {
   "cell_type": "markdown",
   "source": [
    "##### IF WE ANALYZE THE ALGORITHM IMPLEMENTED, WE CAN SAY THAT THE RUNTIME COMPLEXITY IS LINEAR O(n). AS SHOWN IN THE GRAPH, WE CAN SAY THAT YES IT RUNS IN A LINEAR WAY."
   ],
   "metadata": {
    "collapsed": false
   }
  },
  {
   "cell_type": "code",
   "execution_count": 39,
   "outputs": [],
   "source": [],
   "metadata": {
    "collapsed": false
   }
  },
  {
   "cell_type": "code",
   "execution_count": 39,
   "outputs": [],
   "source": [],
   "metadata": {
    "collapsed": false
   }
  }
 ],
 "metadata": {
  "kernelspec": {
   "display_name": "Python 3",
   "language": "python",
   "name": "python3"
  },
  "language_info": {
   "codemirror_mode": {
    "name": "ipython",
    "version": 2
   },
   "file_extension": ".py",
   "mimetype": "text/x-python",
   "name": "python",
   "nbconvert_exporter": "python",
   "pygments_lexer": "ipython2",
   "version": "2.7.6"
  }
 },
 "nbformat": 4,
 "nbformat_minor": 0
}
