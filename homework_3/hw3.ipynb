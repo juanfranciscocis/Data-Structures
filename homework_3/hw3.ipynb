{
 "cells": [
  {
   "cell_type": "markdown",
   "id": "012eda26",
   "metadata": {
    "pycharm": {
     "name": "#%% md\n"
    }
   },
   "source": [
    "# Homework 3\n",
    "## Juan Francisco Cisneros"
   ]
  },
  {
   "cell_type": "markdown",
   "id": "d1c71dde",
   "metadata": {
    "pycharm": {
     "name": "#%% md\n"
    }
   },
   "source": [
    "### 1. Merge two sorted lists\n",
    "\n",
    "1. Assume you have two sorted linked lists. Use **recursion** to merge these lists and return a new sorted list. \n",
    "\n",
    "For example:\n",
    "\n",
    "- Input: \n",
    "\n",
    "> L1 = 1 -> 3 -> 5 -> 7 -> null\n",
    "\n",
    "> L2 = 2 -> 4 -> 6 -> null\n",
    "\n",
    "- Output:\n",
    "\n",
    "> L4 = 1 -> 2 -> 3-> 4 -> 5 -> 6 -> 7 -> null\n",
    "\n",
    "2. Calculate complexity"
   ]
  },
  {
   "cell_type": "code",
   "execution_count": 116,
   "outputs": [],
   "source": [
    "import ctypes\n",
    "import math\n",
    "class Node:\n",
    "    \"\"\"\n",
    "    Implementation of a node\n",
    "    \"\"\"\n",
    "    def __init__(self, val=None): #CONSTANT\n",
    "        self.val = val\n",
    "        self.next_node = None\n",
    "\n",
    "    def set_next_node(self, next_node): #CONSTANT\n",
    "        self.next_node = next_node\n"
   ],
   "metadata": {
    "collapsed": false,
    "pycharm": {
     "name": "#%%\n"
    }
   }
  },
  {
   "cell_type": "code",
   "execution_count": 117,
   "outputs": [],
   "source": [
    "class Singly_linked_list:\n",
    "    \"\"\"\n",
    "    Implementation of a singly linked list\n",
    "    \"\"\"\n",
    "    def __init__(self, head_node=None): #CONSTANT\n",
    "        self.head_node = head_node\n",
    "\n",
    "    def list_traversed(self):\n",
    "        node = self.head_node\n",
    "        while node:\n",
    "            try:\n",
    "                print(node.val)\n",
    "                node = node.next_node\n",
    "            except:\n",
    "                print()\n",
    "\n",
    "    def insert_head(self, new_node): #CONSTANT\n",
    "        # insert to the head\n",
    "        # A -> B -> null\n",
    "        # R -> A -> B -> null\n",
    "        new_node.set_next_node(self.head_node)\n",
    "        self.head_node = new_node\n",
    "\n",
    "    def insert_tail(self, new_node):\n",
    "        # insert to the tail\n",
    "        # A -> B -> null\n",
    "        # A -> B -> R -> null\n",
    "        node = self.head_node\n",
    "        prev = None\n",
    "        while node:\n",
    "            prev = node\n",
    "            node = node.next_node\n",
    "        prev.set_next_node(new_node)\n",
    "\n",
    "    def insert_middle(self, new_node, value):\n",
    "        # insert in the middle\n",
    "        # A -> B -> C -> null\n",
    "        # A -> B -> R -> C -> null\n",
    "        node = self.head_node\n",
    "        while node.val != value:\n",
    "            node = node.next_node\n",
    "        if node:\n",
    "            new_node.set_next_node(node.next_node)\n",
    "            node.set_next_node(new_node)\n",
    "        else:\n",
    "            self.insert_tail(new_node)\n",
    "\n",
    "    def delete(self,value): #O(n)\n",
    "        node = self.head_node\n",
    "        prev = None\n",
    "\n",
    "        if node.val == value:\n",
    "            self.head_node = self.head_node.next_node\n",
    "            node.set_next_node(None)\n",
    "            return node.val\n",
    "\n",
    "\n",
    "        while node and node.val != value:\n",
    "            prev = node\n",
    "            if node.next_node != None:\n",
    "                node = node.next_node\n",
    "        if node:\n",
    "            prev.set_next_node(node.next_node)\n",
    "            node.set_next_node(None)\n",
    "        else:\n",
    "            raise ValueError('No value founded')"
   ],
   "metadata": {
    "collapsed": false,
    "pycharm": {
     "name": "#%%\n"
    }
   }
  },
  {
   "cell_type": "code",
   "execution_count": 118,
   "outputs": [],
   "source": [
    "class Singly_linked_list(Singly_linked_list):\n",
    "    def mergeLists(self,l1:Singly_linked_list, l2:Singly_linked_list):\n",
    "        l1Head = l1.head_node\n",
    "        l2Head = l2.head_node\n",
    "        mergedList = Singly_linked_list()\n",
    "        if( l1Head.val < l2Head.val):\n",
    "            mergedList.head_node = Node(l1Head.val)\n",
    "            l1Head = l1Head.next_node\n",
    "        else:\n",
    "            mergedList.head_node = Node(l2Head.val)\n",
    "            l2Head = l2Head.next_node\n",
    "\n",
    "        while l1Head != None and l2Head != None:\n",
    "            if l1Head.val < l2Head.val:\n",
    "                mergedList.insert_tail(Node(l1Head.val))\n",
    "                l1Head = l1Head.next_node\n",
    "            else:\n",
    "                mergedList.insert_tail(Node(l2Head.val))\n",
    "                l2Head = l2Head.next_node\n",
    "\n",
    "        if(l1Head == None):\n",
    "            while l2Head != None:\n",
    "                mergedList.insert_tail(Node(l2Head.val))\n",
    "                l2Head = l2Head.next_node\n",
    "        else:\n",
    "            while l1Head != None:\n",
    "                mergedList.insert_tail(Node(l1Head.val))\n",
    "                l1Head = l1Head.next_node\n",
    "\n",
    "        return mergedList.list_traversed()\n"
   ],
   "metadata": {
    "collapsed": false,
    "pycharm": {
     "name": "#%%\n"
    }
   }
  },
  {
   "cell_type": "code",
   "execution_count": 118,
   "outputs": [],
   "source": [],
   "metadata": {
    "collapsed": false,
    "pycharm": {
     "name": "#%%\n"
    }
   }
  },
  {
   "cell_type": "code",
   "execution_count": 119,
   "outputs": [
    {
     "name": "stdout",
     "output_type": "stream",
     "text": [
      "0\n",
      "2\n",
      "4\n",
      "6\n",
      "10\n"
     ]
    }
   ],
   "source": [
    "l1 = Singly_linked_list(Node(0))\n",
    "l1.insert_tail(Node(2))\n",
    "l1.insert_tail(Node(4))\n",
    "l1.insert_tail(Node(6))\n",
    "l1.insert_tail(Node(10))\n",
    "l1.list_traversed()"
   ],
   "metadata": {
    "collapsed": false,
    "pycharm": {
     "name": "#%%\n"
    }
   }
  },
  {
   "cell_type": "code",
   "execution_count": 120,
   "outputs": [
    {
     "name": "stdout",
     "output_type": "stream",
     "text": [
      "1\n",
      "3\n",
      "5\n",
      "7\n",
      "8\n",
      "9\n",
      "11\n"
     ]
    }
   ],
   "source": [
    "l2 = Singly_linked_list(Node(1))\n",
    "l2.insert_tail(Node(3))\n",
    "l2.insert_tail(Node(5))\n",
    "l2.insert_tail(Node(7))\n",
    "l2.insert_tail(Node(8))\n",
    "l2.insert_tail(Node(9))\n",
    "l2.insert_tail(Node(11))\n",
    "l2.list_traversed()"
   ],
   "metadata": {
    "collapsed": false,
    "pycharm": {
     "name": "#%%\n"
    }
   }
  },
  {
   "cell_type": "code",
   "execution_count": 121,
   "outputs": [
    {
     "name": "stdout",
     "output_type": "stream",
     "text": [
      "0\n",
      "1\n",
      "2\n",
      "3\n",
      "4\n",
      "5\n",
      "6\n",
      "7\n",
      "8\n",
      "9\n",
      "10\n",
      "11\n"
     ]
    }
   ],
   "source": [
    "l = Singly_linked_list()\n",
    "l.mergeLists(l1,l2)"
   ],
   "metadata": {
    "collapsed": false,
    "pycharm": {
     "name": "#%%\n"
    }
   }
  },
  {
   "cell_type": "markdown",
   "id": "6ffd58f4",
   "metadata": {
    "pycharm": {
     "name": "#%% md\n"
    }
   },
   "source": [
    "### 2. Implement quick sort\n",
    "\n",
    "1. Use the divide and conquer technique to implement the quick sort algorithm studied in class. \n",
    "2. Use a couple of parragraphs to explain the steps of divide and conquer:\n",
    "    - how/where do you divide?\n",
    "    - where/what do you conquer?\n",
    "    - how/what do you combine?\n",
    "3. Analyze complexity"
   ]
  },
  {
   "cell_type": "markdown",
   "id": "3503cba8",
   "metadata": {
    "pycharm": {
     "name": "#%% md\n"
    }
   },
   "source": [
    "### 3. Compare quick sort and merge sort\n",
    "\n",
    "1. Generate 1000 random permutations of arrays of integers between 1 to 10000.\n",
    "2. Execute merge sort and quick sort for each of the permutations\n",
    "3. Calculate the execution time of these runs, and compare them using the statistics of the measured executed time.\n",
    "4. Explain the differences. Which algorithm is better? When would you use each?"
   ]
  },
  {
   "cell_type": "markdown",
   "id": "e43b0016",
   "metadata": {
    "pycharm": {
     "name": "#%% md\n"
    }
   },
   "source": [
    "### 4. Implement factorials with recursion\n",
    "\n",
    "Recall that a factorial number is defined as:\n",
    "\n",
    "$k! = k \\times (k-1) \\times (k-2) \\times ... \\times 2 \\times 1$\n",
    "\n",
    "For example: $3! = 3 \\times 2 \\times 1 = 6$\n",
    "\n",
    "1. Use recursion to implement the factorial\n",
    "2. Run your code for numbers between 1 and 10000\n",
    "3. Calculate the execution time and plot it. \n",
    "4. What's the complexity?\n",
    "5. Implement memoization to improve the performance of your code\n",
    "6. Measure the runtime when you calculate the factorial for numbers between 1 and 10000.\n",
    "7. What's the complexity of your code using memoization?\n",
    "8. How does the first implementation and the one with memoization compare?\n"
   ]
  }
 ],
 "metadata": {
  "kernelspec": {
   "display_name": "Python 3",
   "language": "python",
   "name": "python3"
  },
  "language_info": {
   "codemirror_mode": {
    "name": "ipython",
    "version": 3
   },
   "file_extension": ".py",
   "mimetype": "text/x-python",
   "name": "python",
   "nbconvert_exporter": "python",
   "pygments_lexer": "ipython3",
   "version": "3.8.8"
  }
 },
 "nbformat": 4,
 "nbformat_minor": 5
}