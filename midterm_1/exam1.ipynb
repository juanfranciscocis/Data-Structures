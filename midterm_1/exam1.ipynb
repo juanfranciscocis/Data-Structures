{
 "cells": [
  {
   "cell_type": "markdown",
   "source": [
    "# Exam 1\n",
    "## Juan Francisco Cisneros"
   ],
   "metadata": {
    "collapsed": false
   }
  },
  {
   "cell_type": "code",
   "execution_count": 1,
   "outputs": [],
   "source": [
    "import time\n",
    "import pandas as pd\n",
    "import numpy as np\n",
    "import matplotlib.pyplot as plt\n",
    "%matplotlib inline"
   ],
   "metadata": {
    "collapsed": false
   }
  },
  {
   "cell_type": "code",
   "execution_count": 2,
   "outputs": [],
   "source": [
    "def count_digits(n):\n",
    "    sum = 0 #CONSTANTE\n",
    "    for x in str(n): #N VECES\n",
    "        sum+=1 #SUMA SIMPLE\n",
    "    return sum\n",
    "\n",
    "#O(n)\n",
    "\n",
    "\n",
    "\n",
    "\n"
   ],
   "metadata": {
    "collapsed": false
   }
  },
  {
   "cell_type": "code",
   "execution_count": 3,
   "outputs": [
    {
     "data": {
      "text/plain": "6"
     },
     "execution_count": 3,
     "metadata": {},
     "output_type": "execute_result"
    }
   ],
   "source": [
    "count_digits(100000)"
   ],
   "metadata": {
    "collapsed": false
   }
  },
  {
   "cell_type": "code",
   "execution_count": 4,
   "outputs": [],
   "source": [
    "def get_array_digit_count(X):\n",
    "    Y = [] #CONSTANTE\n",
    "    for x in range(len(X)): # N VECES\n",
    "        Y.append(count_digits(X[x]))  # N VECES\n",
    "    return Y\n",
    "\n",
    "#O(N^2)\n"
   ],
   "metadata": {
    "collapsed": false
   }
  },
  {
   "cell_type": "code",
   "execution_count": 5,
   "outputs": [
    {
     "data": {
      "text/plain": "[3, 2, 2]"
     },
     "execution_count": 5,
     "metadata": {},
     "output_type": "execute_result"
    }
   ],
   "source": [
    "get_array_digit_count([100,10,10])"
   ],
   "metadata": {
    "collapsed": false
   }
  },
  {
   "cell_type": "code",
   "execution_count": 6,
   "outputs": [],
   "source": [
    "def sort(Array):\n",
    "\n",
    "    for i in range(1, len(Array)):\n",
    "        key = Array[i]\n",
    "        j = i-1\n",
    "        while j >=0 and key < Array[j] :\n",
    "                Array[j+1] = Array[j]\n",
    "                j -= 1\n",
    "        Array[j+1] = key\n",
    "\n",
    "\n",
    "\n",
    "    sortedList = []\n",
    "\n",
    "    for j in range(len(arr)):\n",
    "        sortedList.append(arr[j])\n",
    "\n",
    "    return sortedList\n",
    "\n"
   ],
   "metadata": {
    "collapsed": false
   }
  },
  {
   "cell_type": "code",
   "execution_count": 7,
   "outputs": [
    {
     "data": {
      "text/plain": "[5, 6, 11, 12, 13]"
     },
     "execution_count": 7,
     "metadata": {},
     "output_type": "execute_result"
    }
   ],
   "source": [
    "#sorting the array [12, 11, 13, 5, 6] using insertionSort\n",
    "arr = [12, 11, 13, 5, 6]\n",
    "sort(arr)\n"
   ],
   "metadata": {
    "collapsed": false
   }
  },
  {
   "cell_type": "code",
   "execution_count": 8,
   "outputs": [],
   "source": [
    "def median(Array):\n",
    "    sortedArr = sort(Array)\n",
    "    median = 0\n",
    "    if(len(sortedArr)%2 == 0):\n",
    "        print('even')\n",
    "        median = (len(sortedArr) -1)/2\n",
    "    else:\n",
    "        print('odd')\n",
    "        median = (((len(sortedArr)/2)-1) + (len(sortedArr)/2))/2\n",
    "\n",
    "    return median\n",
    "\n",
    "\n"
   ],
   "metadata": {
    "collapsed": false
   }
  },
  {
   "cell_type": "code",
   "execution_count": 9,
   "outputs": [
    {
     "name": "stdout",
     "output_type": "stream",
     "text": [
      "odd\n"
     ]
    },
    {
     "data": {
      "text/plain": "3.0"
     },
     "execution_count": 9,
     "metadata": {},
     "output_type": "execute_result"
    }
   ],
   "source": [
    "arr = [1,1,1,1,1,1,1]\n",
    "median(arr)"
   ],
   "metadata": {
    "collapsed": false
   }
  },
  {
   "cell_type": "code",
   "execution_count": 10,
   "outputs": [],
   "source": [
    "def sort(Array):\n",
    "\n",
    "    for i in range(1, len(Array)): #N VECES\n",
    "        key = Array[i] # N VECES\n",
    "        j = i-1 #N VECES\n",
    "        while j >=0 and key < Array[j] : #N VECES\n",
    "                Array[j+1] = Array[j]  #N VECES\n",
    "                j -= 1  #N VECES\n",
    "        Array[j+1] = key  #N VECES\n",
    "\n",
    "\n",
    "\n",
    "    sortedList = [] #CONSTANTE\n",
    "\n",
    "    for j in range(len(arr)): #N VECES\n",
    "        sortedList.append(arr[j]) #N VECES\n",
    "\n",
    "    return sortedList\n",
    "\n",
    "#O(n)\n",
    "\n",
    "\n",
    "\n",
    "\n",
    "def median(Array):\n",
    "    sortedArr = sort(Array) #CONSTANTE\n",
    "    median = 0 #CONSTANTE\n",
    "    if(len(sortedArr)%2 == 0): #CONSTANTE\n",
    "        print('even')\n",
    "        median = (len(sortedArr) -1)/2 #CONSTANTE\n",
    "    else:\n",
    "        print('odd')\n",
    "        median = (((len(sortedArr)/2)-1) + (len(sortedArr)/2))/2 #CONSTANTE\n",
    "\n",
    "    return median\n",
    "\n",
    "#O(1)\n",
    "\n",
    "\n",
    "\n"
   ],
   "metadata": {
    "collapsed": false
   }
  },
  {
   "cell_type": "code",
   "execution_count": 11,
   "outputs": [
    {
     "name": "stdout",
     "output_type": "stream",
     "text": [
      "odd\n"
     ]
    },
    {
     "data": {
      "text/plain": "3.0"
     },
     "execution_count": 11,
     "metadata": {},
     "output_type": "execute_result"
    }
   ],
   "source": [
    "arr = [1,1,1,1,1,1,1]\n",
    "median(arr)"
   ],
   "metadata": {
    "collapsed": false
   }
  },
  {
   "cell_type": "code",
   "execution_count": 12,
   "outputs": [],
   "source": [
    "def peak(M):\n",
    "    for i in range(len(M)-2): #N VECES\n",
    "        index = M[i+1] # N VECES\n",
    "        prev = M[i]   # N VECES\n",
    "        future = M[i+2]  # N VECES\n",
    "        if(prev < index and index > future): # N VECES\n",
    "            return True\n",
    "\n",
    "    return False\n",
    "\n",
    "\n",
    "#O(N)\n"
   ],
   "metadata": {
    "collapsed": false
   }
  },
  {
   "cell_type": "code",
   "execution_count": 13,
   "outputs": [
    {
     "data": {
      "text/plain": "False"
     },
     "execution_count": 13,
     "metadata": {},
     "output_type": "execute_result"
    }
   ],
   "source": [
    "peak([2,3,4,4,2,0])"
   ],
   "metadata": {
    "collapsed": false
   }
  },
  {
   "cell_type": "code",
   "execution_count": 14,
   "outputs": [],
   "source": [
    "def count_digits(n):\n",
    "    sum = 0 #CONSTANTE\n",
    "    for x in str(n): #N VECES\n",
    "        sum+=1 #SUMA SIMPLE\n",
    "    return sum\n",
    "\n",
    "#O(n)"
   ],
   "metadata": {
    "collapsed": false
   }
  },
  {
   "cell_type": "code",
   "execution_count": 15,
   "outputs": [
    {
     "data": {
      "text/plain": "3"
     },
     "execution_count": 15,
     "metadata": {},
     "output_type": "execute_result"
    }
   ],
   "source": [
    "count_digits(100)"
   ],
   "metadata": {
    "collapsed": false
   }
  },
  {
   "cell_type": "code",
   "execution_count": 16,
   "outputs": [],
   "source": [
    "def get_array_digit_count(X):\n",
    "    Y = [] #CONSTANTE\n",
    "    for x in range(len(X)): # N VECES\n",
    "        Y.append(count_digits(X[x]))  # N VECES\n",
    "    return Y\n",
    "\n",
    "#O(N^2)"
   ],
   "metadata": {
    "collapsed": false
   }
  },
  {
   "cell_type": "code",
   "execution_count": 17,
   "outputs": [
    {
     "data": {
      "text/plain": "[3, 4, 4, 5]"
     },
     "execution_count": 17,
     "metadata": {},
     "output_type": "execute_result"
    }
   ],
   "source": [
    "get_array_digit_count([100,1202,1283,12838])"
   ],
   "metadata": {
    "collapsed": false
   }
  },
  {
   "cell_type": "code",
   "execution_count": 17,
   "outputs": [],
   "source": [],
   "metadata": {
    "collapsed": false
   }
  }
 ],
 "metadata": {
  "kernelspec": {
   "display_name": "Python 3",
   "language": "python",
   "name": "python3"
  },
  "language_info": {
   "codemirror_mode": {
    "name": "ipython",
    "version": 2
   },
   "file_extension": ".py",
   "mimetype": "text/x-python",
   "name": "python",
   "nbconvert_exporter": "python",
   "pygments_lexer": "ipython2",
   "version": "2.7.6"
  }
 },
 "nbformat": 4,
 "nbformat_minor": 0
}
