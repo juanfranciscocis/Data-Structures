{
 "cells": [
  {
   "cell_type": "markdown",
   "source": [
    "# Midterm 2\n",
    "## Juan Francisco Cisneros\n"
   ],
   "metadata": {
    "collapsed": false,
    "pycharm": {
     "name": "#%% md\n"
    }
   }
  },
  {
   "cell_type": "code",
   "execution_count": 75,
   "outputs": [],
   "source": [
    "import time\n",
    "#https://www.geeksforgeeks.org/timing-functions-with-decorators-python/ <- IMPLEMENTATION FROM, RE WRITTED BY JUAN FRANCISCO CISNEROS\n",
    "def timer_func(func):\n",
    "    # This function shows the execution time of\n",
    "    # the function object passed\n",
    "    def wrap_func(*args, **kwargs):\n",
    "        t1 = time()*10**12\n",
    "        result = func(*args, **kwargs)\n",
    "        t2 = time()*10**12\n",
    "        return result , t2-t1\n",
    "    return wrap_func"
   ],
   "metadata": {
    "collapsed": false,
    "pycharm": {
     "name": "#%%\n"
    }
   }
  },
  {
   "cell_type": "markdown",
   "source": [
    "### ARRAY IMPLEMENTATION"
   ],
   "metadata": {
    "collapsed": false,
    "pycharm": {
     "name": "#%% md\n"
    }
   }
  },
  {
   "cell_type": "code",
   "execution_count": 76,
   "outputs": [],
   "source": [
    "import ctypes\n",
    "import math\n",
    "\n",
    "class Array(object):\n",
    "    \"\"\"\n",
    "    Implementation of the array data structure\n",
    "    \"\"\"\n",
    "\n",
    "    def __init__(self, n):\n",
    "        \"\"\"\n",
    "        Initialize the class\n",
    "        \"\"\"\n",
    "        self.l = 0\n",
    "        self.n = n\n",
    "        self.array = self._create_array(self.n)\n",
    "\n",
    "    def _create_array(self, n):\n",
    "        \"\"\"\n",
    "        Creates a new array of capacity n\n",
    "        \"\"\"\n",
    "        return (n * ctypes.py_object)()\n",
    "\n",
    "    def __getitem__(self, item_index):\n",
    "        \"\"\"\n",
    "        Return element at item_index\n",
    "        \"\"\"\n",
    "        if (item_index < 0) or (item_index >= self.n):\n",
    "            raise IndexError('index out of range!')\n",
    "        try:\n",
    "            x = self.array[item_index]\n",
    "        except ValueError:\n",
    "            x = None\n",
    "        return x\n",
    "\n",
    "    def __setitem__(self, item_index, item):\n",
    "        \"\"\"\n",
    "        Set element at item_index\n",
    "        \"\"\"\n",
    "        if (item_index < 0) or (item_index >= self.n):\n",
    "            raise IndexError('index out of range!')\n",
    "        self.array[item_index] = item\n",
    "\n",
    "    def __init__(self, n, values=None):\n",
    "        self.l = 0\n",
    "        self.n = n\n",
    "        self.array = self._create_array(self.n)\n",
    "        if values:\n",
    "            self.initialize_array(values)\n",
    "\n",
    "    def initialize_array(self, values):\n",
    "        \"\"\"\n",
    "        Initialize array\n",
    "        \"\"\"\n",
    "        if self.n != len(values):\n",
    "            raise ValueError(\"element count different than capacity\")\n",
    "        for item in values:\n",
    "            self.array[self.l] = item\n",
    "            self.l += 1\n",
    "\n",
    "    def list_array(self):\n",
    "        \"\"\"\n",
    "        List elements of the array\n",
    "        using list comprehension\n",
    "        \"\"\"\n",
    "        return \", \".join(str(x) if x is not None else '_' for x in self)\n",
    "\n",
    "    def list_array2(self):\n",
    "        y = []\n",
    "        for x in self:\n",
    "            if x is not None:\n",
    "                y.append(str(x))\n",
    "            else:\n",
    "                y.append('_')\n",
    "        return \", \".join(y)\n",
    "\n",
    "    def insert_to_tail(self, item):\n",
    "        \"\"\"\n",
    "        Add new item to the tail of the array\n",
    "        \"\"\"\n",
    "        if self.l == self.n:\n",
    "            raise ValueError(\"no more capacity\")\n",
    "        self.array[self.l] = item\n",
    "        self.l += 1\n",
    "\n",
    "    def insert_to_head(self, item):\n",
    "        \"\"\"\n",
    "        Add new item to the beginning of the array\n",
    "        \"\"\"\n",
    "        if self.l == self.n:\n",
    "            raise ValueError(\"no more capacity\")\n",
    "        i = self.l\n",
    "        while (i > 0):\n",
    "            self.array[i] = self.array[i-1]\n",
    "            i -= 1\n",
    "        self.array[0] = item\n",
    "        self.l += 1\n",
    "\n",
    "    def insert(self, index, element):\n",
    "        \"\"\"\n",
    "        implementation of insert\n",
    "        \"\"\"\n",
    "        if self.l == self.n:\n",
    "            raise ValueError(\"no more capacity\")\n",
    "        if (index < 0) or (index > self.l):\n",
    "            raise IndexError('index out of range!')\n",
    "        x = self.l\n",
    "        while x > index:\n",
    "            self.array[x] = self.array[x-1]\n",
    "            x -= 1\n",
    "        self.array[index] = element\n",
    "        self.l += 1\n",
    "\n",
    "    def delete_last_item(self):\n",
    "        \"\"\"\n",
    "        Delete last item of the array\n",
    "        \"\"\"\n",
    "        self.array[self.l-1] = None\n",
    "        self.l -= 1\n",
    "\n",
    "    def delete_first_item(self):\n",
    "        \"\"\"\n",
    "        Delete first item of the array\n",
    "        \"\"\"\n",
    "        self.array[self.l] = None\n",
    "        i=0\n",
    "        while (i!=self.l):\n",
    "            try:\n",
    "                self.array[i] = self.array[i+1]\n",
    "                i+=1\n",
    "            except:\n",
    "                return\n",
    "        self.l -=1\n",
    "\n",
    "\n",
    "    def delete_using_index(self,index):\n",
    "        \"\"\"\n",
    "        Delete item given by a certain index\n",
    "        \"\"\"\n",
    "        self.array[index] = None\n",
    "        i=index\n",
    "        while (i!=self.l):\n",
    "            try:\n",
    "                self.array[i] = self.array[i+1]\n",
    "                i+=1\n",
    "            except:\n",
    "                self.array[self.l-1] = None\n",
    "                self.l -=1\n",
    "                return\n",
    "        self.l -=1"
   ],
   "metadata": {
    "collapsed": false,
    "pycharm": {
     "name": "#%%\n"
    }
   }
  },
  {
   "cell_type": "markdown",
   "source": [
    "### NODE IMPLEMENTATION"
   ],
   "metadata": {
    "collapsed": false,
    "pycharm": {
     "name": "#%% md\n"
    }
   }
  },
  {
   "cell_type": "code",
   "execution_count": 77,
   "outputs": [],
   "source": [
    "class Node:\n",
    "    \"\"\"\n",
    "    Implementation of a node\n",
    "    \"\"\"\n",
    "    def __init__(self, val=None): #CONSTANT\n",
    "        self.val = val\n",
    "        self.next_node = None\n",
    "\n",
    "    def set_next_node(self, next_node): #CONSTANT\n",
    "        self.next_node = next_node"
   ],
   "metadata": {
    "collapsed": false,
    "pycharm": {
     "name": "#%%\n"
    }
   }
  },
  {
   "cell_type": "markdown",
   "source": [
    "### LINKED LIST IMPLEMENTATION"
   ],
   "metadata": {
    "collapsed": false,
    "pycharm": {
     "name": "#%% md\n"
    }
   }
  },
  {
   "cell_type": "code",
   "execution_count": 78,
   "outputs": [],
   "source": [
    "class Singly_linked_list:\n",
    "    \"\"\"\n",
    "    Implementation of a singly linked list\n",
    "    \"\"\"\n",
    "    def __init__(self, head_node=None): #CONSTANT\n",
    "        self.head_node = head_node\n",
    "\n",
    "    def list_traversed(self):\n",
    "        node = self.head_node\n",
    "        while node:\n",
    "            try:\n",
    "                print(node.val)\n",
    "                node = node.next_node\n",
    "            except:\n",
    "                print()\n",
    "\n",
    "    def insert_head(self, new_node): #CONSTANT\n",
    "        # insert to the head\n",
    "        # A -> B -> null\n",
    "        # R -> A -> B -> null\n",
    "        new_node.set_next_node(self.head_node)\n",
    "        self.head_node = new_node\n",
    "\n",
    "    def insert_tail(self, new_node):\n",
    "        # insert to the tail\n",
    "        # A -> B -> null\n",
    "        # A -> B -> R -> null\n",
    "        node = self.head_node\n",
    "        prev = None\n",
    "        while node:\n",
    "            prev = node\n",
    "            node = node.next_node\n",
    "        prev.set_next_node(new_node)\n",
    "\n",
    "    def insert_middle(self, new_node, value):\n",
    "        # insert in the middle\n",
    "        # A -> B -> C -> null\n",
    "        # A -> B -> R -> C -> null\n",
    "        node = self.head_node\n",
    "        while node.val != value:\n",
    "            node = node.next_node\n",
    "        if node:\n",
    "            new_node.set_next_node(node.next_node)\n",
    "            node.set_next_node(new_node)\n",
    "        else:\n",
    "            self.insert_tail(new_node)\n",
    "\n",
    "    def delete(self,value): #O(n)\n",
    "        node = self.head_node\n",
    "        prev = None\n",
    "\n",
    "        if node.val == value:\n",
    "            self.head_node = self.head_node.next_node\n",
    "            node.set_next_node(None)\n",
    "            return node.val\n",
    "\n",
    "\n",
    "        while node and node.val != value:\n",
    "            prev = node\n",
    "            if node.next_node != None:\n",
    "                node = node.next_node\n",
    "        if node:\n",
    "            prev.set_next_node(node.next_node)\n",
    "            node.set_next_node(None)\n",
    "        else:\n",
    "            raise ValueError('No value founded')\n",
    "\n",
    "    def reverse_list(self):\n",
    "        prev = None\n",
    "        now = self.head_node\n",
    "        while(now is not None):\n",
    "            next = now.next_node\n",
    "            now.next_node = prev\n",
    "            prev = now\n",
    "            now = next\n",
    "        self.head_node = prev"
   ],
   "metadata": {
    "collapsed": false,
    "pycharm": {
     "name": "#%%\n"
    }
   }
  },
  {
   "cell_type": "markdown",
   "source": [
    "### IMPLEMENTATION OF A QUEUE"
   ],
   "metadata": {
    "collapsed": false,
    "pycharm": {
     "name": "#%% md\n"
    }
   }
  },
  {
   "cell_type": "code",
   "execution_count": 79,
   "outputs": [],
   "source": [
    "import ctypes\n",
    "\n",
    "class Queue(object):\n",
    "    \"\"\"\n",
    "    Implementation of the queue data structure\n",
    "    \"\"\"\n",
    "    def __init__(self, n): #O(1)\n",
    "        self.l = 0 #O(1)\n",
    "        self.n = n #O(1)\n",
    "        self.isReverse = False #O(1)\n",
    "        self.queue = self._create_queue(self.n) #O(1)\n",
    "\n",
    "    def _create_queue(self, n):\n",
    "        \"\"\"\n",
    "        Creates a new stack of capacity n\n",
    "        \"\"\"\n",
    "        return Stack(n) #O(1)\n",
    "\n",
    "    def enqueue(self, item): #O(1)\n",
    "        \"\"\"\n",
    "        Add new item to the queue\n",
    "        \"\"\"\n",
    "        self.isReverse = False #O(1)\n",
    "        if self.l == self.n: #O(1)\n",
    "            raise ValueError(\"no more capacity\")\n",
    "        self.queue.push(item) #O(1)\n",
    "        self.l += 1 #O(1)\n",
    "\n",
    "    def reverse(self): #O(n)\n",
    "        if not self.isReverse:\n",
    "            newStack = Stack(self.n)\n",
    "            for i in range(self.l):\n",
    "                newStack.push(self.queue.pop())\n",
    "            self.queue = newStack\n",
    "        self.isReverse = True\n",
    "\n",
    "\n",
    "    def dequeue(self): #O(n)\n",
    "        \"\"\"\n",
    "        Remove an element from the queue\n",
    "        \"\"\"\n",
    "        self.reverse() #O(n)\n",
    "        self.l -= 1 #O(1)\n",
    "        return self.queue.pop() #O(1)\n",
    "\n",
    "\n",
    "    def first(self): #O(n)\n",
    "        \"\"\"\n",
    "        Show the first element of the queue\n",
    "        \"\"\"\n",
    "        self.reverse() #O(n)\n",
    "        return self.queue.top()  #O(1)\n",
    "\n",
    "    def full(self): #O(1)\n",
    "        \"\"\"\n",
    "        Is the queue full?\n",
    "        \"\"\"\n",
    "        if self.l == self.n: #O(1)\n",
    "            return True\n",
    "        return False\n",
    "\n",
    "    def empty(self): #O(1)\n",
    "        \"\"\"\n",
    "        Is the queue empty?\n",
    "        \"\"\"\n",
    "        if self.l == 0: #O(1)\n",
    "            return True\n",
    "        return False\n",
    "\n",
    "    def size(self): #O(1)\n",
    "        \"\"\"\n",
    "        Return size of the queue\n",
    "        \"\"\"\n",
    "        return self.l #O(1)\n",
    "\n"
   ],
   "metadata": {
    "collapsed": false,
    "pycharm": {
     "name": "#%%\n"
    }
   }
  },
  {
   "cell_type": "markdown",
   "source": [
    "### IMPLEMENTATION OF A PRIORITY QUEUE"
   ],
   "metadata": {
    "collapsed": false,
    "pycharm": {
     "name": "#%% md\n"
    }
   }
  },
  {
   "cell_type": "code",
   "execution_count": 80,
   "outputs": [],
   "source": [
    "import ctypes\n",
    "class PriorityQueue(object):\n",
    "    \"\"\"\n",
    "    Implementation of the queue data structure\n",
    "    \"\"\"\n",
    "\n",
    "    def __init__(self, n): #CONSTANT\n",
    "        self.l = 0 #CONSTANT\n",
    "        self.n = n #CONSTANT\n",
    "        self.queue = self._create_queue(self.n) #CONSTANT\n",
    "\n",
    "    def _create_queue(self, n): #CONSTANT\n",
    "        \"\"\"\n",
    "        Creates a new stack of capacity n\n",
    "        \"\"\"\n",
    "        return (n * ctypes.py_object)() #CONSTANT\n",
    "\n",
    "    def enqueue(self, item): #CONSTANT\n",
    "        \"\"\"\n",
    "        Add new item to the queue\n",
    "        \"\"\"\n",
    "        if self.l == self.n: #CONSTANT\n",
    "            raise ValueError(\"no more capacity\")\n",
    "        self.queue[self.l] = item #CONSTANT\n",
    "        self.l += 1 #CONSTANT\n",
    "\n",
    "\n",
    "\n",
    "\n",
    "    def insertionSort(self): #O(N^2)\n",
    "\n",
    "        \"\"\"\n",
    "        Delete item with the highest priority\n",
    "        \"\"\"\n",
    "        a = self.queue\n",
    "        for i in range(1, self.n): #N VECES\n",
    "            try:\n",
    "                key = a[i] # N VECES\n",
    "                j = i-1 #N VECES\n",
    "                while j >=0 and key < a[j] : #N VECES\n",
    "                        a[j+1] = a[j]  #N VECES\n",
    "                        j -= 1  #N VECES\n",
    "                a[j+1] = key  #N VECES\n",
    "            except:\n",
    "                continue\n",
    "        sortedList = (self.n * ctypes.py_object)()\n",
    "        for j in range(self.n): #N VECES\n",
    "            try:\n",
    "                sortedList[j]=a[j] #N VECES\n",
    "            except:\n",
    "                continue\n",
    "        self.queue = sortedList\n",
    "\n",
    "\n",
    "    def dequeue(self): #O(n^2)\n",
    "        \"\"\"\n",
    "        Delete item with the highest priority\n",
    "        \"\"\"\n",
    "        self.insertionSort() # SORTING ITEMS BEFORE DEQUEUE O(n^2)\n",
    "        newQueue = (self.n * ctypes.py_object)() #MEMORY O(N)\n",
    "        for i in range(self.l): #O(n)\n",
    "            newQueue[i]=self.queue[i]\n",
    "        self.queue = newQueue #CONSTANT\n",
    "        self.l -=1 #CONSTANT\n",
    "        return self.queue[self.l]\n",
    "\n",
    "\n",
    "    def size(self):  #CONSTANT\n",
    "        \"\"\"\n",
    "        Return size of the queue\n",
    "        \"\"\"\n",
    "        return self.l #CONSTANT\n",
    "\n",
    "    def first(self): #CONSTANT\n",
    "        \"\"\"\n",
    "        Show the first element of the queue\n",
    "        \"\"\"\n",
    "        return self.queue[0]\n",
    "\n",
    "    def traversed(self): #O(n)\n",
    "        \"\"\"\n",
    "        Show the first element of the queue\n",
    "        \"\"\"\n",
    "        cadena = ''\n",
    "        for i in range(self.l):\n",
    "            cadena += str(self.queue[i])\n",
    "        return cadena\n",
    "\n",
    "\n",
    "\n",
    "\n",
    "\n"
   ],
   "metadata": {
    "collapsed": false,
    "pycharm": {
     "name": "#%%\n"
    }
   }
  },
  {
   "cell_type": "markdown",
   "source": [
    "### IMPLEMENTATION OF A STACK"
   ],
   "metadata": {
    "collapsed": false,
    "pycharm": {
     "name": "#%% md\n"
    }
   }
  },
  {
   "cell_type": "code",
   "execution_count": 81,
   "outputs": [],
   "source": [
    "# We can use the same implementation we used for Arrays\n",
    "import ctypes\n",
    "class Stack(object):\n",
    "    \"\"\"\n",
    "    Implementation of the stack data structure\n",
    "    \"\"\"\n",
    "\n",
    "    def __init__(self, n):\n",
    "        self.l = 0\n",
    "        self.n = n\n",
    "        self.stack = self._create_stack(self.n)\n",
    "\n",
    "    def _create_stack(self, n):\n",
    "        \"\"\"\n",
    "        Creates a new stack of capacity n\n",
    "        \"\"\"\n",
    "        return (n * ctypes.py_object)()\n",
    "\n",
    "    def push(self, item):\n",
    "        \"\"\"\n",
    "        Add new item to the stack\n",
    "        \"\"\"\n",
    "        if self.l == self.n:\n",
    "            raise ValueError(\"no more capacity\")\n",
    "        self.stack[self.l] = item\n",
    "        self.l += 1\n",
    "\n",
    "    def pop(self):\n",
    "        \"\"\"\n",
    "        Remove an element from the stack\n",
    "        \"\"\"\n",
    "        # self.l = 0\n",
    "        # 0 is equivalent to False\n",
    "        # any number != 0 is True\n",
    "        if not self.l:\n",
    "            raise('stack is empty')\n",
    "        c = self.stack[self.l-1]\n",
    "        self.stack[self.l] = ctypes.py_object\n",
    "        self.l -= 1\n",
    "        return c\n",
    "\n",
    "    def top(self):\n",
    "        \"\"\"\n",
    "        Show the top element of the stack\n",
    "        \"\"\"\n",
    "        return self.stack[self.l-1]\n",
    "\n",
    "    def full(self):\n",
    "        \"\"\"\n",
    "        Is the stack full?\n",
    "        \"\"\"\n",
    "        return self.l == self.n\n",
    "        # if self.l == self.n:\n",
    "        #    return True\n",
    "        # return False\n",
    "\n",
    "    def empty(self):\n",
    "        \"\"\"\n",
    "        Is the stack empty?\n",
    "        \"\"\"\n",
    "        return self.l == 0\n",
    "        #if self.l == 0:\n",
    "        #    return True\n",
    "        #return False\n",
    "\n",
    "    def size(self):\n",
    "        \"\"\"\n",
    "        Return size of the stack\n",
    "        \"\"\"\n",
    "        return self.l"
   ],
   "metadata": {
    "collapsed": false,
    "pycharm": {
     "name": "#%%\n"
    }
   }
  },
  {
   "cell_type": "markdown",
   "source": [
    "### IMPLEMENTATION OF A DOUBLY LINKED LIST"
   ],
   "metadata": {
    "collapsed": false,
    "pycharm": {
     "name": "#%% md\n"
    }
   }
  },
  {
   "cell_type": "code",
   "execution_count": 82,
   "outputs": [],
   "source": [
    "class Node:\n",
    "    \"\"\"\n",
    "    Implementation of a node\n",
    "    \"\"\"\n",
    "    def __init__(self, val=None):\n",
    "        self.val = val\n",
    "        self.next_node = None\n",
    "        self.prev_node = None\n",
    "\n",
    "class Doubly_linked_list:\n",
    "    \"\"\"\n",
    "    Implementation of a singly linked list\n",
    "    \"\"\"\n",
    "    def __init__(self, head_node=None):\n",
    "        self.head_node = head_node\n",
    "\n",
    "    def list_traversed(self):\n",
    "        node = self.head_node\n",
    "        while node:\n",
    "            print(node.val)\n",
    "            node = node.next_node\n",
    "\n",
    "    def insert_at_start(self, data):\n",
    "        \"\"\"\n",
    "        Insert a node at the start of the list\n",
    "        \"\"\"\n",
    "        if self.head_node is None:\n",
    "            new_node = Node(data)\n",
    "            self.head_node = new_node\n",
    "            return\n",
    "        new_node = Node(data)\n",
    "        new_node.next_node = self.head_node\n",
    "        self.head_node.prev_node = new_node\n",
    "        self.head_node = new_node\n",
    "\n",
    "    def insert_at_end(self, data):\n",
    "        \"\"\"\n",
    "        Insert a node at the end of the list\n",
    "        \"\"\"\n",
    "        if self.head_node is None:\n",
    "            new_node = Node(data)\n",
    "            self.head_node = new_node\n",
    "            return\n",
    "        node = self.head_node\n",
    "        while node.next_node:\n",
    "            node = node.next_node\n",
    "        new_node = Node(data)\n",
    "        new_node.prev_node = node\n",
    "        node.next_node = new_node\n",
    "\n",
    "    def insert_after_node(self, value, data):\n",
    "        \"\"\"\n",
    "        Insert a node after a given node\n",
    "        \"\"\"\n",
    "        if self.head_node is None:\n",
    "            new_node = Node(data)\n",
    "            self.head_node = new_node\n",
    "            return\n",
    "        n = self.head_node\n",
    "        while n.next_node:\n",
    "            if n.val == value:\n",
    "                break\n",
    "            n = n.next_node\n",
    "        if not n:\n",
    "            raise ValueError(\"node not found\")\n",
    "\n",
    "        new_node = Node(data)\n",
    "        new_node.next_node = n.next_node\n",
    "        n.next_node.prev_node = new_node\n",
    "        n.next_node = new_node\n",
    "        new_node.prev_node = n\n",
    "\n",
    "    def insert_before_node(self, value, data):\n",
    "        \"\"\"\n",
    "        Insert a node before a given node\n",
    "        \"\"\"\n",
    "        if self.head_node is None:\n",
    "            new_node = Node(data)\n",
    "            self.head_node = new_node\n",
    "            return\n",
    "        n = self.head_node\n",
    "        while n.next_node:\n",
    "            if n.val == value:\n",
    "                break\n",
    "            n = n.next_node\n",
    "        if not n:\n",
    "            raise ValueError(\"node not found\")\n",
    "\n",
    "        new_node = Node(data)\n",
    "        new_node.prev_node = n.prev_node\n",
    "        n.prev_node = new_node\n",
    "        new_node.next_node = n\n",
    "        new_node.prev_node.next_node = new_node\n",
    "\n",
    "    def delete_head_node(self):\n",
    "        self.head_node = self.head_node.next_node\n",
    "        self.head_node.prev_node.next_node = None\n",
    "        self.head_node.prev_node = None\n",
    "\n",
    "    def delete_tail_node(self):\n",
    "        n = self.head_node\n",
    "        while n.next_node:\n",
    "            if n.next_node == None:\n",
    "                n.prev_node.next_node = None\n",
    "                return\n",
    "            n = n.next_node\n",
    "        if not n:\n",
    "            raise ValueError(\"node not found\")\n",
    "\n",
    "\n",
    "    def delete_by_value(self,value):\n",
    "        n = self.head_node\n",
    "        while n.next_node:\n",
    "            if n.val == value:\n",
    "                n.prev_node.next_node = n.next_node\n",
    "                n.next_node.prev_node = n.prev_node\n",
    "                return\n",
    "            n = n.next_node\n",
    "        if not n:\n",
    "            raise ValueError(\"node not found\")\n"
   ],
   "metadata": {
    "collapsed": false,
    "pycharm": {
     "name": "#%%\n"
    }
   }
  },
  {
   "cell_type": "markdown",
   "source": [
    "### RECURSION\n",
    "\n",
    "## Time complexity\n",
    "\n",
    "The time complexity of a recursion algorithm is usually the product of the number of recursion invocations $R$ and the complexity of each recursion call $O(s)$:\n",
    "\n",
    "$O(T) = R \\times O(s)$"
   ],
   "metadata": {
    "collapsed": false,
    "pycharm": {
     "name": "#%% md\n"
    }
   }
  },
  {
   "cell_type": "markdown",
   "source": [
    "### IMPLEMENTATION OF A TREE"
   ],
   "metadata": {
    "collapsed": false,
    "pycharm": {
     "name": "#%% md\n"
    }
   }
  },
  {
   "cell_type": "code",
   "execution_count": 83,
   "outputs": [],
   "source": [
    "class TreeNode:\n",
    "    def __init__(self, val=0, left=None, right=None):\n",
    "        self.val = val\n",
    "        self.left = left\n",
    "        self.right = right"
   ],
   "metadata": {
    "collapsed": false,
    "pycharm": {
     "name": "#%%\n"
    }
   }
  },
  {
   "cell_type": "markdown",
   "source": [
    "### Pre-order Traversal\n",
    "\n",
    "- Visit the root first\n",
    "- Then traverse the left subtree\n",
    "- Finally, traverse the right subtree"
   ],
   "metadata": {
    "collapsed": false,
    "pycharm": {
     "name": "#%% md\n"
    }
   }
  },
  {
   "cell_type": "code",
   "execution_count": 84,
   "outputs": [],
   "source": [
    "\n",
    "\n",
    "def preorderTraversal(root):\n",
    "\n",
    "    if root is None:\n",
    "        return []\n",
    "    stack = [root]\n",
    "    out = []\n",
    "\n",
    "    while stack:\n",
    "        node = stack.pop()\n",
    "        if node:\n",
    "            out.append(node.val)\n",
    "            for child in [node.right, node.left]:\n",
    "                if child:\n",
    "                    stack.append(child)\n",
    "    return out"
   ],
   "metadata": {
    "collapsed": false,
    "pycharm": {
     "name": "#%%\n"
    }
   }
  },
  {
   "cell_type": "markdown",
   "source": [
    "### In-order Traversal\n",
    "\n",
    "- Traverse the left subtree first\n",
    "- Then visit the root\n",
    "- Finally, traverse the right subtree"
   ],
   "metadata": {
    "collapsed": false,
    "pycharm": {
     "name": "#%% md\n"
    }
   }
  },
  {
   "cell_type": "code",
   "execution_count": 85,
   "outputs": [],
   "source": [
    "# Implementation using recursion\n",
    "def inorderTraversalrec(root):\n",
    "\n",
    "    if root is None:\n",
    "        return []\n",
    "\n",
    "    out = inorderTraversalrec(root.left)\n",
    "    out += [root.val]\n",
    "    out += inorderTraversalrec(root.right)\n",
    "\n",
    "    return out"
   ],
   "metadata": {
    "collapsed": false,
    "pycharm": {
     "name": "#%%\n"
    }
   }
  },
  {
   "cell_type": "markdown",
   "source": [
    "### Post-order Traversal\n",
    "- Traverse the left subtree first\n",
    "- Then traverse the right subtree\n",
    "- Finally, visit the root"
   ],
   "metadata": {
    "collapsed": false,
    "pycharm": {
     "name": "#%% md\n"
    }
   }
  },
  {
   "cell_type": "code",
   "execution_count": 86,
   "outputs": [],
   "source": [
    "# Implementation using recursion\n",
    "def postorderTraversalrec(root):\n",
    "\n",
    "    if root is None:\n",
    "        return []\n",
    "\n",
    "    out = postorderTraversalrec(root.left)\n",
    "    out += postorderTraversalrec(root.right)\n",
    "    out += [root.val]\n",
    "\n",
    "    return out"
   ],
   "metadata": {
    "collapsed": false,
    "pycharm": {
     "name": "#%%\n"
    }
   }
  },
  {
   "cell_type": "code",
   "execution_count": 87,
   "outputs": [],
   "source": [
    "def max_depth_rec(root, depth):\n",
    "    global answer\n",
    "    if not root:\n",
    "        return\n",
    "    if (not root.left) and (not root.right):\n",
    "        answer = max(answer, depth)\n",
    "    max_depth_rec(root.left, depth + 1)\n",
    "    max_depth_rec(root.right, depth + 1)"
   ],
   "metadata": {
    "collapsed": false,
    "pycharm": {
     "name": "#%%\n"
    }
   }
  },
  {
   "cell_type": "code",
   "execution_count": 88,
   "outputs": [],
   "source": [
    "class Node:\n",
    "    def __init__(self, val=0, left=None, right=None):\n",
    "        self.val = val\n",
    "        self.left = None\n",
    "        self.right = None\n",
    "\n",
    "def search_BST(root, val):\n",
    "    if root is None or val == root.val:\n",
    "        node = root\n",
    "    elif val < root.val:\n",
    "        node = search_BST(root.left, val)\n",
    "    else:\n",
    "        node = search_BST(root.right, val)\n",
    "    return node"
   ],
   "metadata": {
    "collapsed": false,
    "pycharm": {
     "name": "#%%\n"
    }
   }
  },
  {
   "cell_type": "code",
   "execution_count": 89,
   "outputs": [],
   "source": [
    "def insert_BST(root, val):\n",
    "    if not root:\n",
    "        return Node(val)\n",
    "\n",
    "    if val > root.val:\n",
    "        root.right = insert_BST(root.right, val)\n",
    "    else:\n",
    "        root.left = insert_BST(root.left, val)\n",
    "    return root"
   ],
   "metadata": {
    "collapsed": false,
    "pycharm": {
     "name": "#%%\n"
    }
   }
  },
  {
   "cell_type": "code",
   "execution_count": null,
   "outputs": [],
   "source": [],
   "metadata": {
    "collapsed": false,
    "pycharm": {
     "name": "#%%\n"
    }
   }
  }
 ],
 "metadata": {
  "kernelspec": {
   "display_name": "Python 3",
   "language": "python",
   "name": "python3"
  },
  "language_info": {
   "codemirror_mode": {
    "name": "ipython",
    "version": 2
   },
   "file_extension": ".py",
   "mimetype": "text/x-python",
   "name": "python",
   "nbconvert_exporter": "python",
   "pygments_lexer": "ipython2",
   "version": "2.7.6"
  }
 },
 "nbformat": 4,
 "nbformat_minor": 0
}